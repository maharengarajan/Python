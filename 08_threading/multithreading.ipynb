{
 "cells": [
  {
   "cell_type": "code",
   "execution_count": 1,
   "id": "e74a0931",
   "metadata": {},
   "outputs": [],
   "source": [
    "import threading"
   ]
  },
  {
   "cell_type": "code",
   "execution_count": 6,
   "id": "aaf3f26d",
   "metadata": {},
   "outputs": [],
   "source": [
    "def test(id):\n",
    "    print('this is my test id' ,id)"
   ]
  },
  {
   "cell_type": "code",
   "execution_count": 7,
   "id": "2e35036d",
   "metadata": {},
   "outputs": [
    {
     "name": "stdout",
     "output_type": "stream",
     "text": [
      "this is my test id 10\n"
     ]
    }
   ],
   "source": [
    "test(10)"
   ]
  },
  {
   "cell_type": "code",
   "execution_count": 8,
   "id": "30181027",
   "metadata": {},
   "outputs": [
    {
     "name": "stdout",
     "output_type": "stream",
     "text": [
      "this is my test id 1\n"
     ]
    }
   ],
   "source": [
    "test(1)"
   ]
  },
  {
   "cell_type": "code",
   "execution_count": 9,
   "id": "d97743d7",
   "metadata": {},
   "outputs": [
    {
     "name": "stdout",
     "output_type": "stream",
     "text": [
      "this is my test id 3\n"
     ]
    }
   ],
   "source": [
    "test(3)"
   ]
  },
  {
   "cell_type": "code",
   "execution_count": 14,
   "id": "a6b87288",
   "metadata": {},
   "outputs": [],
   "source": [
    "thread = [threading.Thread(target=test, args=(i,)) for i in [10,15,20]]"
   ]
  },
  {
   "cell_type": "code",
   "execution_count": 15,
   "id": "eaeaa3b6",
   "metadata": {},
   "outputs": [
    {
     "data": {
      "text/plain": [
       "[<Thread(Thread-8 (test), initial)>,\n",
       " <Thread(Thread-9 (test), initial)>,\n",
       " <Thread(Thread-10 (test), initial)>]"
      ]
     },
     "execution_count": 15,
     "metadata": {},
     "output_type": "execute_result"
    }
   ],
   "source": [
    "thread"
   ]
  },
  {
   "cell_type": "code",
   "execution_count": 16,
   "id": "f89ef9a7",
   "metadata": {},
   "outputs": [
    {
     "name": "stdout",
     "output_type": "stream",
     "text": [
      "this is my test id 10\n",
      "this is my test id 15\n",
      "this is my test id 20\n"
     ]
    }
   ],
   "source": [
    "for t in thread:\n",
    "    t.start()"
   ]
  },
  {
   "cell_type": "code",
   "execution_count": 17,
   "id": "4e9fcd98",
   "metadata": {},
   "outputs": [],
   "source": [
    "import urllib.request\n",
    "\n",
    "def file_download(url , filename):\n",
    "    urllib.request.urlretrieve(url , filename)"
   ]
  },
  {
   "cell_type": "code",
   "execution_count": 18,
   "id": "8590847a",
   "metadata": {},
   "outputs": [],
   "source": [
    "url_list = ['https://raw.githubusercontent.com/itsfoss/text-files/master/agatha.txt' , 'https://raw.githubusercontent.com/itsfoss/text-files/master/sherlock.txt' ,'https://raw.githubusercontent.com/itsfoss/text-files/master/sample_log_file.txt' ]"
   ]
  },
  {
   "cell_type": "code",
   "execution_count": 19,
   "id": "e2499718",
   "metadata": {},
   "outputs": [
    {
     "data": {
      "text/plain": [
       "['https://raw.githubusercontent.com/itsfoss/text-files/master/agatha.txt',\n",
       " 'https://raw.githubusercontent.com/itsfoss/text-files/master/sherlock.txt',\n",
       " 'https://raw.githubusercontent.com/itsfoss/text-files/master/sample_log_file.txt']"
      ]
     },
     "execution_count": 19,
     "metadata": {},
     "output_type": "execute_result"
    }
   ],
   "source": [
    "url_list"
   ]
  },
  {
   "cell_type": "code",
   "execution_count": 20,
   "id": "9d1e9213",
   "metadata": {},
   "outputs": [
    {
     "data": {
      "text/plain": [
       "['data1.txt', 'data2.txt', 'data3.txt']"
      ]
     },
     "execution_count": 20,
     "metadata": {},
     "output_type": "execute_result"
    }
   ],
   "source": [
    "data_file_list = ['data1.txt', 'data2.txt','data3.txt']\n",
    "data_file_list"
   ]
  },
  {
   "cell_type": "code",
   "execution_count": 21,
   "id": "bf7cefbc",
   "metadata": {},
   "outputs": [],
   "source": [
    "thread1 = [threading.Thread(target=file_download , args=(url_list[i],data_file_list[i])) for i in range(len(url_list))]"
   ]
  },
  {
   "cell_type": "code",
   "execution_count": 22,
   "id": "0b6ac040",
   "metadata": {},
   "outputs": [],
   "source": [
    "for t in thread1:\n",
    "    t.start()"
   ]
  },
  {
   "cell_type": "code",
   "execution_count": 23,
   "id": "53ef347a",
   "metadata": {},
   "outputs": [],
   "source": [
    "import time"
   ]
  },
  {
   "cell_type": "code",
   "execution_count": 24,
   "id": "91a24722",
   "metadata": {},
   "outputs": [],
   "source": [
    "def test3(x):\n",
    "    for i in range(x):\n",
    "        print(f\"the value of x is {x} and value of i is {i}\")"
   ]
  },
  {
   "cell_type": "code",
   "execution_count": 26,
   "id": "caf956be",
   "metadata": {},
   "outputs": [
    {
     "name": "stdout",
     "output_type": "stream",
     "text": [
      "the value of x is 10 and value of i is 0\n",
      "the value of x is 10 and value of i is 1\n",
      "the value of x is 10 and value of i is 2\n",
      "the value of x is 10 and value of i is 3\n",
      "the value of x is 10 and value of i is 4\n",
      "the value of x is 10 and value of i is 5\n",
      "the value of x is 10 and value of i is 6\n",
      "the value of x is 10 and value of i is 7\n",
      "the value of x is 10 and value of i is 8\n",
      "the value of x is 10 and value of i is 9\n"
     ]
    }
   ],
   "source": [
    "test3(10)"
   ]
  },
  {
   "cell_type": "code",
   "execution_count": 27,
   "id": "438da76b",
   "metadata": {},
   "outputs": [],
   "source": [
    "def test3(x):\n",
    "    for i in range(x):\n",
    "        print(f\"the value of x is {x} and value of i is {i}\")\n",
    "        time.sleep(1)"
   ]
  },
  {
   "cell_type": "code",
   "execution_count": 28,
   "id": "0d2c014c",
   "metadata": {},
   "outputs": [
    {
     "name": "stdout",
     "output_type": "stream",
     "text": [
      "the value of x is 10 and value of i is 0\n",
      "the value of x is 10 and value of i is 1\n",
      "the value of x is 10 and value of i is 2\n",
      "the value of x is 10 and value of i is 3\n",
      "the value of x is 10 and value of i is 4\n",
      "the value of x is 10 and value of i is 5\n",
      "the value of x is 10 and value of i is 6\n",
      "the value of x is 10 and value of i is 7\n",
      "the value of x is 10 and value of i is 8\n",
      "the value of x is 10 and value of i is 9\n"
     ]
    }
   ],
   "source": [
    "test3(10)"
   ]
  },
  {
   "cell_type": "code",
   "execution_count": 29,
   "id": "5fec6973",
   "metadata": {},
   "outputs": [],
   "source": [
    "def test4(x):\n",
    "    for i in range(x):\n",
    "        print(f\"the value of x is {x} and value of i is {i}\")\n",
    "        time.sleep(1)"
   ]
  },
  {
   "cell_type": "code",
   "execution_count": 30,
   "id": "980c1267",
   "metadata": {},
   "outputs": [],
   "source": [
    "thread5 = [threading.Thread(target=test4, args=(i,)) for i in [100,10,23]]"
   ]
  },
  {
   "cell_type": "code",
   "execution_count": 31,
   "id": "7ddd9135",
   "metadata": {},
   "outputs": [
    {
     "data": {
      "text/plain": [
       "[<Thread(Thread-14 (test4), initial)>,\n",
       " <Thread(Thread-15 (test4), initial)>,\n",
       " <Thread(Thread-16 (test4), initial)>]"
      ]
     },
     "execution_count": 31,
     "metadata": {},
     "output_type": "execute_result"
    }
   ],
   "source": [
    "thread5"
   ]
  },
  {
   "cell_type": "code",
   "execution_count": 32,
   "id": "bc52f665",
   "metadata": {},
   "outputs": [
    {
     "name": "stdout",
     "output_type": "stream",
     "text": [
      "the value of x is 100 and value of i is 0\n",
      "the value of x is 10 and value of i is 0\n",
      "the value of x is 23 and value of i is 0\n",
      "the value of x is 10 and value of i is 1the value of x is 100 and value of i is 1\n",
      "the value of x is 23 and value of i is 1\n",
      "\n",
      "the value of x is 10 and value of i is 2the value of x is 23 and value of i is 2\n",
      "\n",
      "the value of x is 100 and value of i is 2\n",
      "the value of x is 10 and value of i is 3the value of x is 23 and value of i is 3\n",
      "the value of x is 100 and value of i is 3\n",
      "\n",
      "the value of x is 23 and value of i is 4\n",
      "the value of x is 100 and value of i is 4\n",
      "the value of x is 10 and value of i is 4\n",
      "the value of x is 10 and value of i is 5\n",
      "the value of x is 100 and value of i is 5\n",
      "the value of x is 23 and value of i is 5\n",
      "the value of x is 100 and value of i is 6\n",
      "the value of x is 23 and value of i is 6\n",
      "the value of x is 10 and value of i is 6\n",
      "the value of x is 100 and value of i is 7\n",
      "the value of x is 23 and value of i is 7\n",
      "the value of x is 10 and value of i is 7\n",
      "the value of x is 23 and value of i is 8the value of x is 10 and value of i is 8\n",
      "\n",
      "the value of x is 100 and value of i is 8\n",
      "the value of x is 10 and value of i is 9the value of x is 100 and value of i is 9\n",
      "the value of x is 23 and value of i is 9\n",
      "\n",
      "the value of x is 23 and value of i is 10the value of x is 100 and value of i is 10\n",
      "\n",
      "the value of x is 100 and value of i is 11the value of x is 23 and value of i is 11\n",
      "\n",
      "the value of x is 100 and value of i is 12the value of x is 23 and value of i is 12\n",
      "\n",
      "the value of x is 23 and value of i is 13the value of x is 100 and value of i is 13\n",
      "\n",
      "the value of x is 23 and value of i is 14the value of x is 100 and value of i is 14\n",
      "\n",
      "the value of x is 100 and value of i is 15\n",
      "the value of x is 23 and value of i is 15\n",
      "the value of x is 100 and value of i is 16\n",
      "the value of x is 23 and value of i is 16\n",
      "the value of x is 100 and value of i is 17\n",
      "the value of x is 23 and value of i is 17\n",
      "the value of x is 23 and value of i is 18\n",
      "the value of x is 100 and value of i is 18\n",
      "the value of x is 23 and value of i is 19\n",
      "the value of x is 100 and value of i is 19\n",
      "the value of x is 23 and value of i is 20the value of x is 100 and value of i is 20\n",
      "\n",
      "the value of x is 23 and value of i is 21the value of x is 100 and value of i is 21\n",
      "\n",
      "the value of x is 23 and value of i is 22\n",
      "the value of x is 100 and value of i is 22\n",
      "the value of x is 100 and value of i is 23\n",
      "the value of x is 100 and value of i is 24\n",
      "the value of x is 100 and value of i is 25\n",
      "the value of x is 100 and value of i is 26\n",
      "the value of x is 100 and value of i is 27\n",
      "the value of x is 100 and value of i is 28\n",
      "the value of x is 100 and value of i is 29\n",
      "the value of x is 100 and value of i is 30\n",
      "the value of x is 100 and value of i is 31\n",
      "the value of x is 100 and value of i is 32\n",
      "the value of x is 100 and value of i is 33\n",
      "the value of x is 100 and value of i is 34\n",
      "the value of x is 100 and value of i is 35\n",
      "the value of x is 100 and value of i is 36\n",
      "the value of x is 100 and value of i is 37\n",
      "the value of x is 100 and value of i is 38\n",
      "the value of x is 100 and value of i is 39\n",
      "the value of x is 100 and value of i is 40\n",
      "the value of x is 100 and value of i is 41\n",
      "the value of x is 100 and value of i is 42\n",
      "the value of x is 100 and value of i is 43\n",
      "the value of x is 100 and value of i is 44\n",
      "the value of x is 100 and value of i is 45\n",
      "the value of x is 100 and value of i is 46\n",
      "the value of x is 100 and value of i is 47\n",
      "the value of x is 100 and value of i is 48\n",
      "the value of x is 100 and value of i is 49\n",
      "the value of x is 100 and value of i is 50\n",
      "the value of x is 100 and value of i is 51\n",
      "the value of x is 100 and value of i is 52\n",
      "the value of x is 100 and value of i is 53\n",
      "the value of x is 100 and value of i is 54\n",
      "the value of x is 100 and value of i is 55\n",
      "the value of x is 100 and value of i is 56\n",
      "the value of x is 100 and value of i is 57\n",
      "the value of x is 100 and value of i is 58\n",
      "the value of x is 100 and value of i is 59\n",
      "the value of x is 100 and value of i is 60\n",
      "the value of x is 100 and value of i is 61\n",
      "the value of x is 100 and value of i is 62\n",
      "the value of x is 100 and value of i is 63\n",
      "the value of x is 100 and value of i is 64\n",
      "the value of x is 100 and value of i is 65\n",
      "the value of x is 100 and value of i is 66\n",
      "the value of x is 100 and value of i is 67\n",
      "the value of x is 100 and value of i is 68\n",
      "the value of x is 100 and value of i is 69\n",
      "the value of x is 100 and value of i is 70\n",
      "the value of x is 100 and value of i is 71\n",
      "the value of x is 100 and value of i is 72\n",
      "the value of x is 100 and value of i is 73\n",
      "the value of x is 100 and value of i is 74\n",
      "the value of x is 100 and value of i is 75\n",
      "the value of x is 100 and value of i is 76\n",
      "the value of x is 100 and value of i is 77\n",
      "the value of x is 100 and value of i is 78\n",
      "the value of x is 100 and value of i is 79\n",
      "the value of x is 100 and value of i is 80\n",
      "the value of x is 100 and value of i is 81\n",
      "the value of x is 100 and value of i is 82\n",
      "the value of x is 100 and value of i is 83\n",
      "the value of x is 100 and value of i is 84\n",
      "the value of x is 100 and value of i is 85\n",
      "the value of x is 100 and value of i is 86\n",
      "the value of x is 100 and value of i is 87\n",
      "the value of x is 100 and value of i is 88\n",
      "the value of x is 100 and value of i is 89\n",
      "the value of x is 100 and value of i is 90\n",
      "the value of x is 100 and value of i is 91\n",
      "the value of x is 100 and value of i is 92\n",
      "the value of x is 100 and value of i is 93\n",
      "the value of x is 100 and value of i is 94\n",
      "the value of x is 100 and value of i is 95\n",
      "the value of x is 100 and value of i is 96\n",
      "the value of x is 100 and value of i is 97\n",
      "the value of x is 100 and value of i is 98\n",
      "the value of x is 100 and value of i is 99\n"
     ]
    }
   ],
   "source": [
    "for t in thread5:\n",
    "    t.start()"
   ]
  },
  {
   "cell_type": "code",
   "execution_count": null,
   "id": "fa735f61",
   "metadata": {},
   "outputs": [],
   "source": []
  }
 ],
 "metadata": {
  "kernelspec": {
   "display_name": "Python 3 (ipykernel)",
   "language": "python",
   "name": "python3"
  },
  "language_info": {
   "codemirror_mode": {
    "name": "ipython",
    "version": 3
   },
   "file_extension": ".py",
   "mimetype": "text/x-python",
   "name": "python",
   "nbconvert_exporter": "python",
   "pygments_lexer": "ipython3",
   "version": "3.10.13"
  }
 },
 "nbformat": 4,
 "nbformat_minor": 5
}
