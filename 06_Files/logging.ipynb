{
 "cells": [
  {
   "cell_type": "code",
   "execution_count": 1,
   "id": "a76a19d5",
   "metadata": {},
   "outputs": [
    {
     "name": "stdout",
     "output_type": "stream",
     "text": [
      "this is my print statement\n"
     ]
    }
   ],
   "source": [
    "print(\"this is my print statement\")"
   ]
  },
  {
   "cell_type": "code",
   "execution_count": 2,
   "id": "ac3fa356",
   "metadata": {},
   "outputs": [],
   "source": [
    "import logging"
   ]
  },
  {
   "cell_type": "code",
   "execution_count": 4,
   "id": "1d3d7f34",
   "metadata": {},
   "outputs": [],
   "source": [
    "logging.basicConfig(filename = 'test.log', level=logging.INFO)"
   ]
  },
  {
   "cell_type": "code",
   "execution_count": 5,
   "id": "17df33cb",
   "metadata": {},
   "outputs": [],
   "source": [
    "logging.info(\"this is my line of execution\")"
   ]
  },
  {
   "cell_type": "code",
   "execution_count": 6,
   "id": "4eb15144",
   "metadata": {},
   "outputs": [],
   "source": [
    "logging.error(\"this mis my error\")"
   ]
  },
  {
   "cell_type": "code",
   "execution_count": 7,
   "id": "33ce0aad",
   "metadata": {},
   "outputs": [],
   "source": [
    "logging.critical(\"this mis my critical\")"
   ]
  },
  {
   "cell_type": "code",
   "execution_count": 8,
   "id": "a0d94338",
   "metadata": {},
   "outputs": [],
   "source": [
    "logging.warning(\"this mis my warning\")"
   ]
  },
  {
   "cell_type": "markdown",
   "id": "3a72ebd4",
   "metadata": {},
   "source": [
    "1. NOSET\n",
    "2. DEBUG\n",
    "3. INFO\n",
    "4. WARNING\n",
    "5. ERROR\n",
    "6. CRITICAL"
   ]
  },
  {
   "cell_type": "code",
   "execution_count": 9,
   "id": "10e9de22",
   "metadata": {},
   "outputs": [],
   "source": [
    "logging.debug(\"this mis my info related to debug\")"
   ]
  },
  {
   "cell_type": "code",
   "execution_count": 10,
   "id": "c97ae8e2",
   "metadata": {},
   "outputs": [
    {
     "ename": "AttributeError",
     "evalue": "module 'logging' has no attribute 'noset'",
     "output_type": "error",
     "traceback": [
      "\u001b[1;31m---------------------------------------------------------------------------\u001b[0m",
      "\u001b[1;31mAttributeError\u001b[0m                            Traceback (most recent call last)",
      "Cell \u001b[1;32mIn[10], line 1\u001b[0m\n\u001b[1;32m----> 1\u001b[0m \u001b[43mlogging\u001b[49m\u001b[38;5;241;43m.\u001b[39;49m\u001b[43mnoset\u001b[49m(\u001b[38;5;124m\"\u001b[39m\u001b[38;5;124mthis mis my info related to debug\u001b[39m\u001b[38;5;124m\"\u001b[39m)\n",
      "\u001b[1;31mAttributeError\u001b[0m: module 'logging' has no attribute 'noset'"
     ]
    }
   ],
   "source": [
    "logging.noset(\"this mis my info related to debug\")"
   ]
  },
  {
   "cell_type": "code",
   "execution_count": 11,
   "id": "2b182d9f",
   "metadata": {},
   "outputs": [],
   "source": [
    "logging.shutdown()"
   ]
  },
  {
   "cell_type": "code",
   "execution_count": 1,
   "id": "455fd9d6",
   "metadata": {},
   "outputs": [],
   "source": [
    "import logging\n",
    "logging.basicConfig(filename=\"test1.log\", level=logging.DEBUG, format=\"%(asctime)s %(message)s\")"
   ]
  },
  {
   "cell_type": "code",
   "execution_count": 2,
   "id": "08a8b4dc",
   "metadata": {},
   "outputs": [],
   "source": [
    "logging.info(\"this is my line of execution\")\n",
    "logging.debug(\"this mis my info related to debug\")\n",
    "logging.warning(\"this mis my warning\")"
   ]
  },
  {
   "cell_type": "code",
   "execution_count": 3,
   "id": "d385bf4c",
   "metadata": {},
   "outputs": [],
   "source": [
    "logging.shutdown()"
   ]
  },
  {
   "cell_type": "code",
   "execution_count": 1,
   "id": "fec5b52e",
   "metadata": {},
   "outputs": [],
   "source": [
    "import logging\n",
    "logging.basicConfig(filename=\"test2.log\", level=logging.DEBUG, format=\"%(asctime)s %(name)s %(levelname)s %(message)s\")"
   ]
  },
  {
   "cell_type": "code",
   "execution_count": 2,
   "id": "3307bdbf",
   "metadata": {},
   "outputs": [],
   "source": [
    "logging.info(\"this is my info log\")"
   ]
  },
  {
   "cell_type": "code",
   "execution_count": 4,
   "id": "25ac5734",
   "metadata": {},
   "outputs": [],
   "source": [
    "l = [1,2,3,4,[4,5,6], 'sudh', 'kumar']"
   ]
  },
  {
   "cell_type": "code",
   "execution_count": 10,
   "id": "a177bfa0",
   "metadata": {},
   "outputs": [],
   "source": [
    "l1 = []\n",
    "l2 = []\n",
    "\n",
    "def test(l):\n",
    "    for i in l:\n",
    "        if type(i)==int and type(i)==list:\n",
    "            l1.append(i)\n",
    "        elif type(i)==str:\n",
    "            l2.append(i)\n",
    "    return l1, l2\n",
    "        "
   ]
  },
  {
   "cell_type": "code",
   "execution_count": 11,
   "id": "f6874937",
   "metadata": {},
   "outputs": [
    {
     "data": {
      "text/plain": [
       "([], ['sudh', 'kumar'])"
      ]
     },
     "execution_count": 11,
     "metadata": {},
     "output_type": "execute_result"
    }
   ],
   "source": [
    "test(l)"
   ]
  },
  {
   "cell_type": "code",
   "execution_count": 1,
   "id": "418ef3fb",
   "metadata": {},
   "outputs": [],
   "source": [
    "l = [1,2,3,4,[4,5,6], 'sudh', 'kumar']"
   ]
  },
  {
   "cell_type": "code",
   "execution_count": 4,
   "id": "acadd87d",
   "metadata": {},
   "outputs": [],
   "source": [
    "def test2(l):\n",
    "    l1_int = []\n",
    "    l2_str = []\n",
    "    for i in l:\n",
    "        if type(i)==int:\n",
    "            l1_int.append(i)\n",
    "        elif type(i)==list:\n",
    "            for j in i:\n",
    "                if type(j)==int:\n",
    "                    l1_int.append(j)\n",
    "        elif type(i)==str:\n",
    "            l2_str.append(i)\n",
    "        else:\n",
    "            print('error in list')\n",
    "    return l1_int, l2_str            "
   ]
  },
  {
   "cell_type": "code",
   "execution_count": 5,
   "id": "2a7faa04",
   "metadata": {},
   "outputs": [
    {
     "data": {
      "text/plain": [
       "([1, 2, 3, 4, 4, 5, 6], ['sudh', 'kumar'])"
      ]
     },
     "execution_count": 5,
     "metadata": {},
     "output_type": "execute_result"
    }
   ],
   "source": [
    "test2(l)"
   ]
  },
  {
   "cell_type": "code",
   "execution_count": null,
   "id": "3d0fb6d7",
   "metadata": {},
   "outputs": [],
   "source": []
  }
 ],
 "metadata": {
  "kernelspec": {
   "display_name": "Python 3 (ipykernel)",
   "language": "python",
   "name": "python3"
  },
  "language_info": {
   "codemirror_mode": {
    "name": "ipython",
    "version": 3
   },
   "file_extension": ".py",
   "mimetype": "text/x-python",
   "name": "python",
   "nbconvert_exporter": "python",
   "pygments_lexer": "ipython3",
   "version": "3.10.13"
  }
 },
 "nbformat": 4,
 "nbformat_minor": 5
}
