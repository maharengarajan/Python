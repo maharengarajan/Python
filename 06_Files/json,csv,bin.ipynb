{
 "cells": [
  {
   "cell_type": "code",
   "execution_count": 13,
   "id": "f014400e",
   "metadata": {},
   "outputs": [],
   "source": [
    "data = {\n",
    "    \"name\": \"raja\",\n",
    "    \"mail\": 'maha@gmail.com',\n",
    "    \"phone\": 9034567,\n",
    "    \"subject\": [\"AI\", \"ML\", \"DS\"]\n",
    "}"
   ]
  },
  {
   "cell_type": "code",
   "execution_count": 14,
   "id": "8f6a1ab2",
   "metadata": {},
   "outputs": [],
   "source": [
    "import json"
   ]
  },
  {
   "cell_type": "code",
   "execution_count": 15,
   "id": "a6d158bf",
   "metadata": {},
   "outputs": [],
   "source": [
    "with open(\"test1.json\", 'w') as f:\n",
    "    json.dump(data, f)"
   ]
  },
  {
   "cell_type": "code",
   "execution_count": 16,
   "id": "404220d5",
   "metadata": {},
   "outputs": [],
   "source": [
    "with open(\"test1.json\", mode = 'r') as f:\n",
    "    data1 = json.load(f)"
   ]
  },
  {
   "cell_type": "code",
   "execution_count": 17,
   "id": "98214e87",
   "metadata": {},
   "outputs": [
    {
     "data": {
      "text/plain": [
       "{'name': 'raja',\n",
       " 'mail': 'maha@gmail.com',\n",
       " 'phone': 9034567,\n",
       " 'subject': ['AI', 'ML', 'DS']}"
      ]
     },
     "execution_count": 17,
     "metadata": {},
     "output_type": "execute_result"
    }
   ],
   "source": [
    "data1"
   ]
  },
  {
   "cell_type": "code",
   "execution_count": 19,
   "id": "1e19398a",
   "metadata": {},
   "outputs": [
    {
     "data": {
      "text/plain": [
       "'ML'"
      ]
     },
     "execution_count": 19,
     "metadata": {},
     "output_type": "execute_result"
    }
   ],
   "source": [
    "data1['subject'][1]"
   ]
  },
  {
   "cell_type": "code",
   "execution_count": 24,
   "id": "1afa966e",
   "metadata": {},
   "outputs": [],
   "source": [
    "data = [\n",
    "       [\"name\", \"mail\", \"phone\"],\n",
    "       ['raja', \"maha@gmail.com\", 34567],\n",
    "       ['yoga', 'yoga@gmail.com',234567]\n",
    "]"
   ]
  },
  {
   "cell_type": "code",
   "execution_count": 25,
   "id": "ac629845",
   "metadata": {},
   "outputs": [],
   "source": [
    "import csv"
   ]
  },
  {
   "cell_type": "code",
   "execution_count": 27,
   "id": "7a003835",
   "metadata": {},
   "outputs": [],
   "source": [
    "with open('test3.csv', mode = 'w') as f:\n",
    "    w = csv.writer(f)\n",
    "    \n",
    "    for i in data:\n",
    "        w.writerow(i)"
   ]
  },
  {
   "cell_type": "code",
   "execution_count": 31,
   "id": "a6a342db",
   "metadata": {},
   "outputs": [
    {
     "name": "stdout",
     "output_type": "stream",
     "text": [
      "['name', 'mail', 'phone']\n",
      "[]\n",
      "['raja', 'maha@gmail.com', '34567']\n",
      "[]\n",
      "['yoga', 'yoga@gmail.com', '234567']\n",
      "[]\n"
     ]
    }
   ],
   "source": [
    "with open('test3.csv', mode = 'r') as f:\n",
    "    r = csv.reader(f)\n",
    "    \n",
    "    for i in r:\n",
    "        print(i)"
   ]
  },
  {
   "cell_type": "code",
   "execution_count": 33,
   "id": "79d2686f",
   "metadata": {},
   "outputs": [],
   "source": [
    "with open(\"test4.bin\", mode = 'wb') as f:\n",
    "    f.write(b\"\\x01\\x02\\x03\")"
   ]
  },
  {
   "cell_type": "code",
   "execution_count": 36,
   "id": "d444a24a",
   "metadata": {},
   "outputs": [
    {
     "name": "stdout",
     "output_type": "stream",
     "text": [
      "b'\\x01\\x02\\x03'\n"
     ]
    }
   ],
   "source": [
    "with open(\"test4.bin\", mode = 'rb') as f:\n",
    "    print(f.read())"
   ]
  },
  {
   "cell_type": "code",
   "execution_count": null,
   "id": "172fa269",
   "metadata": {},
   "outputs": [],
   "source": []
  }
 ],
 "metadata": {
  "kernelspec": {
   "display_name": "Python 3 (ipykernel)",
   "language": "python",
   "name": "python3"
  },
  "language_info": {
   "codemirror_mode": {
    "name": "ipython",
    "version": 3
   },
   "file_extension": ".py",
   "mimetype": "text/x-python",
   "name": "python",
   "nbconvert_exporter": "python",
   "pygments_lexer": "ipython3",
   "version": "3.10.13"
  }
 },
 "nbformat": 4,
 "nbformat_minor": 5
}
