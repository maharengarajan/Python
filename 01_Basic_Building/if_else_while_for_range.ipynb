{
 "cells": [
  {
   "cell_type": "code",
   "execution_count": 1,
   "id": "df3d7b26",
   "metadata": {},
   "outputs": [],
   "source": [
    "a = 10\n",
    "if a > 10:\n",
    "    pass"
   ]
  },
  {
   "cell_type": "code",
   "execution_count": 2,
   "id": "a473e9ad",
   "metadata": {},
   "outputs": [
    {
     "data": {
      "text/plain": [
       "False"
      ]
     },
     "execution_count": 2,
     "metadata": {},
     "output_type": "execute_result"
    }
   ],
   "source": [
    "a > 10"
   ]
  },
  {
   "cell_type": "code",
   "execution_count": 3,
   "id": "d97fa349",
   "metadata": {},
   "outputs": [],
   "source": [
    "if a > 10:\n",
    "    print(\"this will execute only a greater than 10\")"
   ]
  },
  {
   "cell_type": "code",
   "execution_count": 5,
   "id": "61db7ba9",
   "metadata": {},
   "outputs": [
    {
     "name": "stdout",
     "output_type": "stream",
     "text": [
      "this will execute if cant able to perform\n"
     ]
    }
   ],
   "source": [
    "if a > 10:\n",
    "    print(\"this will execute only a greater than 10\")\n",
    "else:\n",
    "    print(\"this will execute if cant able to perform\")"
   ]
  },
  {
   "cell_type": "code",
   "execution_count": 7,
   "id": "f0df49ed",
   "metadata": {},
   "outputs": [
    {
     "name": "stdout",
     "output_type": "stream",
     "text": [
      "this will execute only a equal or lesser than 10\n"
     ]
    }
   ],
   "source": [
    "if a > 10:\n",
    "    print(\"this will execute only a greater than 10\")\n",
    "elif a <= 10:\n",
    "    print(\"this will execute only a equal or lesser than 10\")\n",
    "else:\n",
    "    print(\"this will execute if cant able to perform\")"
   ]
  },
  {
   "cell_type": "code",
   "execution_count": 8,
   "id": "1690c66f",
   "metadata": {},
   "outputs": [
    {
     "name": "stdout",
     "output_type": "stream",
     "text": [
      "1\n",
      "this will execute only a equal or lesser than 10\n"
     ]
    }
   ],
   "source": [
    "a = int(input())\n",
    "if a > 10:\n",
    "    print(\"this will execute only a greater than 10\")\n",
    "elif a <= 10:\n",
    "    print(\"this will execute only a equal or lesser than 10\")\n",
    "else:\n",
    "    print(\"this will execute if cant able to perform\")"
   ]
  },
  {
   "cell_type": "code",
   "execution_count": 9,
   "id": "a08e0461",
   "metadata": {},
   "outputs": [
    {
     "name": "stdout",
     "output_type": "stream",
     "text": [
      "1\n",
      "2\n",
      "3\n",
      "4\n",
      "5\n",
      "6\n",
      "7\n",
      "8\n",
      "9\n"
     ]
    }
   ],
   "source": [
    "n = 10\n",
    "b = 1\n",
    "while b < n:\n",
    "    print(b)\n",
    "    b = b+1"
   ]
  },
  {
   "cell_type": "code",
   "execution_count": 11,
   "id": "9416470b",
   "metadata": {},
   "outputs": [
    {
     "name": "stdout",
     "output_type": "stream",
     "text": [
      "1\n",
      "2\n",
      "3\n",
      "4\n",
      "5\n",
      "6\n",
      "7\n",
      "8\n",
      "9\n",
      "this will execute whil complete fully\n"
     ]
    }
   ],
   "source": [
    "n = 10\n",
    "b = 1\n",
    "while b < n:\n",
    "    print(b)\n",
    "    b = b+1\n",
    "else:\n",
    "    print('this will execute when while loop complete fully')"
   ]
  },
  {
   "cell_type": "code",
   "execution_count": 12,
   "id": "72f435f5",
   "metadata": {},
   "outputs": [
    {
     "name": "stdout",
     "output_type": "stream",
     "text": [
      "1\n",
      "2\n"
     ]
    }
   ],
   "source": [
    "n = 10\n",
    "b = 1\n",
    "while b < n:\n",
    "    print(b)\n",
    "    b = b+1\n",
    "    if b ==3:\n",
    "        break\n",
    "else:\n",
    "    print('this will execute when while loop complete fully')\n",
    "    #there is an interuption in loop that's why else not executed"
   ]
  },
  {
   "cell_type": "code",
   "execution_count": 16,
   "id": "f397b372",
   "metadata": {},
   "outputs": [
    {
     "name": "stdout",
     "output_type": "stream",
     "text": [
      "2\n",
      "4\n",
      "5\n",
      "6\n",
      "7\n",
      "8\n",
      "9\n",
      "10\n",
      "this will execute when while loop complete fully\n"
     ]
    }
   ],
   "source": [
    "n = 10\n",
    "b = 1\n",
    "while b < n:\n",
    "    b = b+1\n",
    "    if b ==3:\n",
    "        continue #continue means don't execute the code after continue statement\n",
    "    print(b)\n",
    "else:\n",
    "    print('this will execute when while loop complete fully')\n",
    "    #there is no interuption in loop that's why else got executed"
   ]
  },
  {
   "cell_type": "code",
   "execution_count": 17,
   "id": "3ac2b3ab",
   "metadata": {},
   "outputs": [],
   "source": [
    "s = 'sudh'"
   ]
  },
  {
   "cell_type": "code",
   "execution_count": 18,
   "id": "02af8cd3",
   "metadata": {},
   "outputs": [
    {
     "name": "stdout",
     "output_type": "stream",
     "text": [
      "s\n",
      "u\n",
      "d\n",
      "h\n"
     ]
    }
   ],
   "source": [
    "for i in s:\n",
    "    print(i)"
   ]
  },
  {
   "cell_type": "code",
   "execution_count": 19,
   "id": "63590b53",
   "metadata": {},
   "outputs": [
    {
     "name": "stdout",
     "output_type": "stream",
     "text": [
      "1\n",
      "2\n",
      "3\n",
      "raja\n",
      "True\n",
      "(3+4j)\n"
     ]
    }
   ],
   "source": [
    "l = [1,2,3,'raja',True,3+4j]\n",
    "for i in l:\n",
    "    print(i)"
   ]
  },
  {
   "cell_type": "code",
   "execution_count": 20,
   "id": "c6bd0bc3",
   "metadata": {},
   "outputs": [
    {
     "name": "stdout",
     "output_type": "stream",
     "text": [
      "1\n",
      "2\n",
      "3\n",
      "raja\n",
      "True\n",
      "(3+4j)\n",
      "this will execute only for loop complete itself successfully\n"
     ]
    }
   ],
   "source": [
    "l = [1,2,3,'raja',True,3+4j]\n",
    "for i in l:\n",
    "    print(i)\n",
    "else:\n",
    "    print(\"this will execute only for loop complete itself successfully\")"
   ]
  },
  {
   "cell_type": "code",
   "execution_count": 21,
   "id": "d254ff5d",
   "metadata": {},
   "outputs": [
    {
     "name": "stdout",
     "output_type": "stream",
     "text": [
      "1\n",
      "2\n",
      "3\n",
      "raja\n"
     ]
    }
   ],
   "source": [
    "l = [1,2,3,'raja',True,3+4j]\n",
    "for i in l:\n",
    "    print(i)\n",
    "    if i == 'raja':\n",
    "        break\n",
    "else:\n",
    "    print(\"this will execute only for loop complete itself successfully\")"
   ]
  },
  {
   "cell_type": "code",
   "execution_count": 23,
   "id": "620c11a1",
   "metadata": {},
   "outputs": [
    {
     "data": {
      "text/plain": [
       "range(0, 10)"
      ]
     },
     "execution_count": 23,
     "metadata": {},
     "output_type": "execute_result"
    }
   ],
   "source": [
    "# used to generate data\n",
    "range(10)"
   ]
  },
  {
   "cell_type": "code",
   "execution_count": 24,
   "id": "d9066faf",
   "metadata": {},
   "outputs": [
    {
     "data": {
      "text/plain": [
       "[0, 1, 2, 3, 4, 5, 6, 7, 8, 9]"
      ]
     },
     "execution_count": 24,
     "metadata": {},
     "output_type": "execute_result"
    }
   ],
   "source": [
    "# 0 to 9 excluding upper bound\n",
    "list(range(10))"
   ]
  },
  {
   "cell_type": "code",
   "execution_count": null,
   "id": "6f4c4a51",
   "metadata": {},
   "outputs": [],
   "source": []
  }
 ],
 "metadata": {
  "kernelspec": {
   "display_name": "Python 3 (ipykernel)",
   "language": "python",
   "name": "python3"
  },
  "language_info": {
   "codemirror_mode": {
    "name": "ipython",
    "version": 3
   },
   "file_extension": ".py",
   "mimetype": "text/x-python",
   "name": "python",
   "nbconvert_exporter": "python",
   "pygments_lexer": "ipython3",
   "version": "3.10.13"
  }
 },
 "nbformat": 4,
 "nbformat_minor": 5
}
