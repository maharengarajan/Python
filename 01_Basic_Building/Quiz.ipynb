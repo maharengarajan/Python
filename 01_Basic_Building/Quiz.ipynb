{
 "cells": [
  {
   "cell_type": "markdown",
   "id": "637bae6e",
   "metadata": {},
   "source": [
    "1.What is the output of the following code? x = 10 y = 5 print(x//y)"
   ]
  },
  {
   "cell_type": "code",
   "execution_count": 1,
   "id": "478d4e02",
   "metadata": {},
   "outputs": [
    {
     "name": "stdout",
     "output_type": "stream",
     "text": [
      "2\n"
     ]
    }
   ],
   "source": [
    "x = 10\n",
    "y = 5 \n",
    "print(x//y)  # // returns the floor division (integer division)"
   ]
  },
  {
   "cell_type": "code",
   "execution_count": 2,
   "id": "7d309285",
   "metadata": {},
   "outputs": [
    {
     "name": "stdout",
     "output_type": "stream",
     "text": [
      "2.0\n"
     ]
    }
   ],
   "source": [
    "x = 10\n",
    "y = 5 \n",
    "print(x/y)  # / returns the result of division as a floating-point number."
   ]
  },
  {
   "cell_type": "code",
   "execution_count": 3,
   "id": "90f4bf80",
   "metadata": {},
   "outputs": [
    {
     "name": "stdout",
     "output_type": "stream",
     "text": [
      "0\n"
     ]
    }
   ],
   "source": [
    "x = 10\n",
    "y = 5 \n",
    "print(x%y)  # % returns the remainder of the division."
   ]
  },
  {
   "cell_type": "markdown",
   "id": "46ee2de0",
   "metadata": {},
   "source": [
    "2. What will be the value of x after the following code is executed? x = [1, 2, 3] y = x y.append(4)"
   ]
  },
  {
   "cell_type": "code",
   "execution_count": 5,
   "id": "10ffae5b",
   "metadata": {},
   "outputs": [
    {
     "name": "stdout",
     "output_type": "stream",
     "text": [
      "[1, 2, 3, 4]\n"
     ]
    }
   ],
   "source": [
    "x = [1,2,3]\n",
    "y = x\n",
    "y.append(4)\n",
    "print(x)"
   ]
  },
  {
   "cell_type": "markdown",
   "id": "ce577e96",
   "metadata": {},
   "source": [
    "3. In Python, what is the purpose of the 'and' operator?"
   ]
  },
  {
   "cell_type": "raw",
   "id": "8a1346c7",
   "metadata": {},
   "source": [
    "The 'and' operator in Python is used for logical conjunction. It returns True if both the operands are True; otherwise, it returns False."
   ]
  },
  {
   "cell_type": "markdown",
   "id": "cbeb5a92",
   "metadata": {},
   "source": [
    "4. What will be the output of the following code? x = 5 y = 8 z = 10 print(x < y and y < z)"
   ]
  },
  {
   "cell_type": "code",
   "execution_count": 6,
   "id": "9e835393",
   "metadata": {},
   "outputs": [
    {
     "name": "stdout",
     "output_type": "stream",
     "text": [
      "True\n"
     ]
    }
   ],
   "source": [
    "x = 5\n",
    "y = 8\n",
    "z = 10\n",
    "print(x<y and y<z)"
   ]
  },
  {
   "cell_type": "markdown",
   "id": "eb2da156",
   "metadata": {},
   "source": [
    "5. What is the value of 'result' after the following code is executed? x = 10 result = 'Pass' if x > 10 else 'Fail'"
   ]
  },
  {
   "cell_type": "code",
   "execution_count": 8,
   "id": "0dcdf684",
   "metadata": {},
   "outputs": [
    {
     "name": "stdout",
     "output_type": "stream",
     "text": [
      "Fail\n"
     ]
    }
   ],
   "source": [
    "x = 10\n",
    "result = 'Pass' if x > 10 else 'Fail'\n",
    "print(result)"
   ]
  },
  {
   "cell_type": "raw",
   "id": "b6a10cff",
   "metadata": {},
   "source": [
    "The code uses a conditional expression (ternary operator) to assign the value of 'result'. Since x is not greater than 10 (x = 10), the expression 'x > 10' evaluates to False, so the value of 'result' will be 'Fail'."
   ]
  },
  {
   "cell_type": "markdown",
   "id": "87fc6077",
   "metadata": {},
   "source": [
    "6. What is the output of the following code? x = True y = False print(not x or y)"
   ]
  },
  {
   "cell_type": "code",
   "execution_count": 9,
   "id": "8cffff46",
   "metadata": {},
   "outputs": [
    {
     "name": "stdout",
     "output_type": "stream",
     "text": [
      "False\n"
     ]
    }
   ],
   "source": [
    "x = True\n",
    "y = False\n",
    "print(not x or y)"
   ]
  },
  {
   "cell_type": "raw",
   "id": "7372c277",
   "metadata": {},
   "source": [
    "The 'not' operator negates the boolean value of x (True), resulting in False. The 'or' operator returns True if at least one of the operands is True. In this case, the result will be False."
   ]
  },
  {
   "cell_type": "markdown",
   "id": "cc4e5797",
   "metadata": {},
   "source": [
    "7. What will be the output of the following code? x = 15 if x < 10: print('Less than 10') else: print('Greater than or equal to 10')"
   ]
  },
  {
   "cell_type": "code",
   "execution_count": 10,
   "id": "cbf3c5cc",
   "metadata": {},
   "outputs": [
    {
     "name": "stdout",
     "output_type": "stream",
     "text": [
      "Greater than or equal to 10\n"
     ]
    }
   ],
   "source": [
    "x = 15\n",
    "if x < 10:\n",
    "    print('Less than 10')\n",
    "else:\n",
    "    print('Greater than or equal to 10')"
   ]
  },
  {
   "cell_type": "markdown",
   "id": "50e84b2e",
   "metadata": {},
   "source": [
    "8. What is the value of 'result' after the following code is executed? x = 7 result = 'Even' if x % 2 == 0 else 'Odd'"
   ]
  },
  {
   "cell_type": "code",
   "execution_count": 11,
   "id": "1442d47f",
   "metadata": {},
   "outputs": [
    {
     "name": "stdout",
     "output_type": "stream",
     "text": [
      "Odd\n"
     ]
    }
   ],
   "source": [
    "x = 7\n",
    "result = 'Even' if x%2 ==0 else 'Odd'\n",
    "print(result)"
   ]
  },
  {
   "cell_type": "markdown",
   "id": "e2624489",
   "metadata": {},
   "source": [
    "9. In Python, which of the following is NOT a valid boolean value?"
   ]
  },
  {
   "cell_type": "raw",
   "id": "b6d78475",
   "metadata": {},
   "source": [
    "True, False, 0, 1"
   ]
  },
  {
   "cell_type": "raw",
   "id": "65f2b6c5",
   "metadata": {},
   "source": [
    "ans : 1, \n",
    "In Python, the boolean values are 'True' and 'False'. Any other values, such as 0 and 1, are interpreted as False and True, respectively."
   ]
  }
 ],
 "metadata": {
  "kernelspec": {
   "display_name": "Python 3 (ipykernel)",
   "language": "python",
   "name": "python3"
  },
  "language_info": {
   "codemirror_mode": {
    "name": "ipython",
    "version": 3
   },
   "file_extension": ".py",
   "mimetype": "text/x-python",
   "name": "python",
   "nbconvert_exporter": "python",
   "pygments_lexer": "ipython3",
   "version": "3.10.13"
  }
 },
 "nbformat": 4,
 "nbformat_minor": 5
}
