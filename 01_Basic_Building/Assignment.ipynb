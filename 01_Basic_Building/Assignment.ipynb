{
 "cells": [
  {
   "cell_type": "markdown",
   "id": "cf4ca860",
   "metadata": {},
   "source": [
    "1. What is the difference between '==' and 'is' operators in Python? Provide an example for each."
   ]
  },
  {
   "cell_type": "code",
   "execution_count": 1,
   "id": "294b1c1a",
   "metadata": {},
   "outputs": [
    {
     "name": "stdout",
     "output_type": "stream",
     "text": [
      "True\n",
      "False\n"
     ]
    }
   ],
   "source": [
    "#The == operator is used to compare the values of two objects to determine if they are equal.\n",
    "a = [1, 2, 3]\n",
    "b = [1, 2, 3]\n",
    "\n",
    "result = (a == b)\n",
    "print(result) # Output: True\n",
    "\n",
    "\n",
    "#The is operator is used to check if two objects refer to the same memory location, i.e., if they are the same object.\n",
    "\n",
    "x = [1, 2, 3]\n",
    "y = [1, 2, 3]\n",
    "\n",
    "result = (x is y)\n",
    "print(result) # Output: False"
   ]
  },
  {
   "cell_type": "markdown",
   "id": "f3f68598",
   "metadata": {},
   "source": [
    "2. How is a ternary conditional operator used in Python? Provide an example."
   ]
  },
  {
   "cell_type": "code",
   "execution_count": 4,
   "id": "bd7d456c",
   "metadata": {},
   "outputs": [
    {
     "name": "stdout",
     "output_type": "stream",
     "text": [
      "Adult\n"
     ]
    }
   ],
   "source": [
    "# Ternary conditional operator is a concise way to write an if-else statement in a single line. \n",
    "# It's often referred to as the \"conditional expression\" or \"ternary operator.\n",
    "\n",
    "age = 25\n",
    "\n",
    "status = \"Adult\" if age >= 18 else \"Minor\"\n",
    "\n",
    "print(status) # Output: \"Adult\" (because age is 25)"
   ]
  },
  {
   "cell_type": "markdown",
   "id": "a4e5c6ff",
   "metadata": {},
   "source": [
    "3. What are the different logical operators available in Python? Provide examples for each."
   ]
  },
  {
   "cell_type": "raw",
   "id": "df00a943",
   "metadata": {},
   "source": [
    "1. and \n",
    "2. or\n",
    "3. not"
   ]
  },
  {
   "cell_type": "markdown",
   "id": "d3cb30e1",
   "metadata": {},
   "source": [
    "4. Explain the difference between 'and' and '&' operators in Python with examples."
   ]
  },
  {
   "cell_type": "code",
   "execution_count": 7,
   "id": "845397e6",
   "metadata": {},
   "outputs": [
    {
     "name": "stdout",
     "output_type": "stream",
     "text": [
      "False\n",
      "1\n"
     ]
    }
   ],
   "source": [
    "# In Python, and and & are used for different purposes, and they behave differently.\n",
    "\n",
    "# and - Logical operator\n",
    "# Logical AND operation\n",
    "x = True\n",
    "y = False\n",
    "\n",
    "result = x and y\n",
    "print(result) # Output: False\n",
    "\n",
    "\n",
    "# & - bitwise operator\n",
    "# Bitwise AND operation only int\n",
    "num1 = 5  # binary: 0101\n",
    "num2 = 3  # binary: 0011\n",
    "\n",
    "result = num1 & num2\n",
    "print(result) # Output: 1 (binary: 0001)"
   ]
  },
  {
   "cell_type": "markdown",
   "id": "271edeb6",
   "metadata": {},
   "source": [
    "5. What is the 'in' keyword used for in Python? Provide an example."
   ]
  },
  {
   "cell_type": "code",
   "execution_count": 8,
   "id": "539e2ecb",
   "metadata": {},
   "outputs": [
    {
     "name": "stdout",
     "output_type": "stream",
     "text": [
      "True\n"
     ]
    }
   ],
   "source": [
    "# In Python, the in keyword is used as a membership test operator. \n",
    "# It is used to check if a value exists within a sequence (such as a string, list, tuple, or dictionary).\n",
    "\n",
    "fruits = ['apple', 'banana', 'orange']\n",
    "\n",
    "# Check if 'banana' is in the list\n",
    "result = 'banana' in fruits\n",
    "\n",
    "print(result) # Output: True"
   ]
  },
  {
   "cell_type": "markdown",
   "id": "23483c12",
   "metadata": {},
   "source": [
    "6. What are the different comparison operators in Python? Provide examples for each."
   ]
  },
  {
   "cell_type": "raw",
   "id": "cf818dd9",
   "metadata": {},
   "source": [
    "==  # equal check\n",
    "!=  # not equal to\n",
    ">   # greater than\n",
    "<   # lesser than\n",
    ">=  # greater than or equal to\n",
    "<=  # lesser than or equal to"
   ]
  },
  {
   "cell_type": "markdown",
   "id": "92c28042",
   "metadata": {},
   "source": [
    "7. Explain the concept of short-circuit evaluation in Python with an example."
   ]
  },
  {
   "cell_type": "raw",
   "id": "6c613d00",
   "metadata": {},
   "source": [
    "Short-circuit evaluation is a concept in programming languages, including Python, where the second operand of a logical expression is not evaluated if the result can be determined by only evaluating the first operand. This is particularly relevant when using the `and` and `or` operators.\n",
    "\n",
    "\n",
    "\n",
    "Short-Circuit Evaluation with `and`:\n",
    "\n",
    "\n",
    "\n",
    "In the case of the `and` operator, if the first operand is `False`, the overall result is guaranteed to be `False`. Therefore, the second operand is not evaluated.\n",
    "\n",
    "\n",
    "\n",
    "result = False and some_function()\n",
    "\n",
    "\n",
    "\n",
    "In this example, `some_function()` will not be called because the first operand is `False`, and the result of the entire expression will be `False` regardless of the value returned by `some_function()`.\n",
    "\n",
    "\n",
    "\n",
    "Short-Circuit Evaluation with `or`:\n",
    "\n",
    "Similarly, with the `or` operator, if the first operand is `True`, the overall result is guaranteed to be `True`. Therefore, the second operand is not evaluated.\n",
    "\n",
    "\n",
    "\n",
    "result = True or some_function()\n",
    "\n",
    "\n",
    "\n",
    "In this case, `some_function()` will not be called because the first operand is `True`, and the result of the entire expression will be `True` regardless of the value returned by `some_function()`.\n",
    "\n",
    "\n",
    "\n",
    "Example:\n",
    "\n",
    "def some_function():\n",
    "\n",
    "  print(\"This function should not be called.\")\n",
    "\n",
    "  return False\n",
    "\n",
    "\n",
    "\n",
    "Short-circuit evaluation with 'and'\n",
    "\n",
    "result_and = False and some_function()\n",
    "\n",
    "# Output: This function should not be called.\n",
    "\n",
    "# Note: some_function() is not called because the first operand is False.\n",
    "\n",
    "\n",
    "\n",
    "Short-circuit evaluation with 'or'\n",
    "\n",
    "result_or = True or some_function()\n",
    "\n",
    "# Output: This function should not be called.\n",
    "\n",
    "# Note: some_function() is not called because the first operand is True.\n",
    "\n",
    "\n",
    "\n",
    "In both cases, the function `some_function()` is not called due to short-circuit evaluation, as the first operand's value is sufficient to determine the overall result of the expression. This behavior can be useful for optimizing code and avoiding unnecessary computations."
   ]
  }
 ],
 "metadata": {
  "kernelspec": {
   "display_name": "Python 3 (ipykernel)",
   "language": "python",
   "name": "python3"
  },
  "language_info": {
   "codemirror_mode": {
    "name": "ipython",
    "version": 3
   },
   "file_extension": ".py",
   "mimetype": "text/x-python",
   "name": "python",
   "nbconvert_exporter": "python",
   "pygments_lexer": "ipython3",
   "version": "3.10.13"
  }
 },
 "nbformat": 4,
 "nbformat_minor": 5
}
