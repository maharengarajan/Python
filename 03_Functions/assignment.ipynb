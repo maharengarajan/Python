{
 "cells": [
  {
   "cell_type": "markdown",
   "id": "e8e748aa",
   "metadata": {},
   "source": [
    "1. What is a generator function in Python?"
   ]
  },
  {
   "cell_type": "raw",
   "id": "8f10ae8c",
   "metadata": {},
   "source": [
    "In Python, a generator function is a special type of function that allows you to iterate over a potentially large sequence of data without generating the entire sequence at once and storing it in memory. Instead of returning a complete list or sequence, a generator function produces one item at a time using the yield keyword.\n",
    "\n",
    "The main advantage of using generators is that they are memory-efficient, especially when dealing with large datasets or infinite sequences. Unlike regular functions that return a value and terminate, a generator function can be paused and resumed, allowing you to generate values on-the-fly."
   ]
  },
  {
   "cell_type": "markdown",
   "id": "b324df1d",
   "metadata": {},
   "source": [
    "2. Explain the role of the 'yield' keyword in a generator function."
   ]
  },
  {
   "cell_type": "raw",
   "id": "80bc9aec",
   "metadata": {},
   "source": [
    "Producing a Value: When a generator function is called and reaches the yield statement, it returns the value specified after yield to the caller, and the function's state is saved. The generator is then paused until the next iteration is requested.\n",
    "\n",
    "Maintaining State: Unlike regular functions that return a value and terminate, a generator function retains its state between calls. When the generator is resumed, it continues from where it was paused, remembering the local variables and the point in the code right after the last yield statement."
   ]
  },
  {
   "cell_type": "markdown",
   "id": "41d5b227",
   "metadata": {},
   "source": [
    "3. How is a lambda function defined in Python?"
   ]
  },
  {
   "cell_type": "raw",
   "id": "c4168091",
   "metadata": {},
   "source": [
    "a lambda function is a concise way to create anonymous functions. It is defined using the lambda keyword, followed by a list of parameters, a colon :, and an expression. \n",
    "\n",
    "add = lambda x, y: x + y\n",
    "result = add(3, 5)\n",
    "print(result)  # Outputs: 8"
   ]
  },
  {
   "cell_type": "markdown",
   "id": "a24dbe76",
   "metadata": {},
   "source": [
    "4. What are the advantages of using lambda functions?"
   ]
  },
  {
   "cell_type": "raw",
   "id": "bb456540",
   "metadata": {},
   "source": [
    "Conciseness - single line, short, readable\n",
    "Anonymous - don't need a name and def keyword\n",
    "Functional programming - often used with map, filter, reduce functions"
   ]
  },
  {
   "cell_type": "markdown",
   "id": "051b02e2",
   "metadata": {},
   "source": [
    "5. How does the 'map' function work in Python?"
   ]
  },
  {
   "cell_type": "raw",
   "id": "5c5d948d",
   "metadata": {},
   "source": [
    "In Python, the map() function is a built-in function that applies a specified function to all items in an iterable (such as a list) and returns an iterator that produces the results. The general syntax of the map() function is:\n",
    "map(function, iterable, ...)\n",
    "\n",
    "function: The function to apply to each item in the iterable.\n",
    "iterable: One or more iterables (e.g., lists, tuples) whose items will be passed as arguments to the function."
   ]
  },
  {
   "cell_type": "markdown",
   "id": "539fd409",
   "metadata": {},
   "source": [
    "6. Provide an example of using the 'map' function in Python."
   ]
  },
  {
   "cell_type": "raw",
   "id": "55b61ac4",
   "metadata": {},
   "source": [
    "ex1:\n",
    "numbers = [1, 2, 3, 4, 5]\n",
    "squared = map(lambda x: x**2, numbers)\n",
    "print(list(squared)) # Outputs: [1, 4, 9, 16, 25]\n",
    "\n",
    "ex2:\n",
    "def square(x):\n",
    "  return x**2\n",
    "numbers = [1, 2, 3, 4, 5]\n",
    "squared = map(square, numbers)\n",
    "print(list(squared)) # Outputs: [1, 4, 9, 16, 25]"
   ]
  },
  {
   "cell_type": "markdown",
   "id": "0b5dc7b1",
   "metadata": {},
   "source": [
    "7. Explain the 'reduce' function in Python with an example."
   ]
  },
  {
   "cell_type": "raw",
   "id": "237f5356",
   "metadata": {},
   "source": [
    "The reduce() function is another built-in function in Python, but it is part of the functools module in Python 3. It is used for aggregating elements of an iterable, applying a specified function cumulatively to the items in the iterable. The result is a single accumulated value.\n",
    "\n",
    "functools.reduce(function, iterable[, initializer])"
   ]
  },
  {
   "cell_type": "code",
   "execution_count": 1,
   "id": "0d67e2f4",
   "metadata": {},
   "outputs": [
    {
     "name": "stdout",
     "output_type": "stream",
     "text": [
      "120\n"
     ]
    }
   ],
   "source": [
    "from functools import reduce\n",
    "\n",
    "numbers = [1, 2, 3, 4, 5]\n",
    "product = reduce(lambda x, y: x * y, numbers)\n",
    "print(product)  # Outputs: 120"
   ]
  },
  {
   "cell_type": "code",
   "execution_count": 4,
   "id": "39a29685",
   "metadata": {},
   "outputs": [
    {
     "name": "stdout",
     "output_type": "stream",
     "text": [
      "1200\n"
     ]
    }
   ],
   "source": [
    "from functools import reduce\n",
    "\n",
    "numbers = [1, 2, 3, 4, 5]\n",
    "product_with_initializer = reduce(lambda x, y: x * y, numbers, 10)\n",
    "print(product_with_initializer)  # Outputs: 1200 (10 * 1 * 2 * 3 * 4 * 5)"
   ]
  },
  {
   "cell_type": "markdown",
   "id": "a9379478",
   "metadata": {},
   "source": [
    "8. What is the purpose of the 'filter' function in Python?"
   ]
  },
  {
   "cell_type": "raw",
   "id": "5b3e972b",
   "metadata": {},
   "source": [
    "The filter() function in Python is a built-in function used to filter elements of an iterable (such as a list) based on a specified function, called the predicate. The filter() function returns an iterator that produces the items from the input iterable for which the predicate function returns True.\n",
    "\n",
    "The general syntax of the filter() function is:\n",
    "filter(function, iterable)"
   ]
  },
  {
   "cell_type": "code",
   "execution_count": 5,
   "id": "cdbcd2b9",
   "metadata": {},
   "outputs": [
    {
     "name": "stdout",
     "output_type": "stream",
     "text": [
      "[2, 4, 6, 8, 10]\n"
     ]
    }
   ],
   "source": [
    "numbers = [1, 2, 3, 4, 5, 6, 7, 8, 9, 10]\n",
    "even_numbers = filter(lambda x: x % 2 == 0, numbers)\n",
    "print(list(even_numbers))  # Outputs: [2, 4, 6, 8, 10]"
   ]
  },
  {
   "cell_type": "markdown",
   "id": "08e8da74",
   "metadata": {},
   "source": [
    "9. Differentiate between map and filter functions in Python."
   ]
  },
  {
   "cell_type": "raw",
   "id": "f044156a",
   "metadata": {},
   "source": [
    "The primary purpose of map() is to apply a given function to each item in an iterable and return an iterator that produces the results.\n",
    "\n",
    "The main purpose of filter() is to selectively include or exclude items from an iterable based on a given predicate (a function that returns True or False)."
   ]
  },
  {
   "cell_type": "markdown",
   "id": "23e15375",
   "metadata": {},
   "source": [
    "10. What are the limitations of using lambda functions?"
   ]
  },
  {
   "cell_type": "raw",
   "id": "734510b6",
   "metadata": {},
   "source": [
    "Limited Expressiveness\n",
    "Limited Documentation\n",
    "Readability issue\n",
    "Debugging challenges"
   ]
  },
  {
   "cell_type": "markdown",
   "id": "53ab8303",
   "metadata": {},
   "source": [
    "11. How can generator functions help in memory optimization?"
   ]
  },
  {
   "cell_type": "raw",
   "id": "664a13be",
   "metadata": {},
   "source": [
    "Generator functions in Python can help in memory optimization by allowing the creation of iterators that generate values on-the-fly, rather than producing and storing the entire sequence in memory at once. This is particularly beneficial when dealing with large datasets or infinite sequences. Here are several ways in which generator functions contribute to memory optimization."
   ]
  },
  {
   "cell_type": "markdown",
   "id": "135db927",
   "metadata": {},
   "source": [
    "12. Write a Python code to demonstrate the use of a generator function."
   ]
  },
  {
   "cell_type": "code",
   "execution_count": 8,
   "id": "9a617061",
   "metadata": {},
   "outputs": [
    {
     "name": "stdout",
     "output_type": "stream",
     "text": [
      "5\n",
      "4\n",
      "3\n",
      "2\n",
      "1\n"
     ]
    }
   ],
   "source": [
    "def countdown(n):\n",
    "      while n > 0:\n",
    "        yield n\n",
    "        n -= 1\n",
    "\n",
    "# Using the generator in a loop\n",
    "for i in countdown(5):\n",
    "  print(i)"
   ]
  },
  {
   "cell_type": "markdown",
   "id": "38c5de4e",
   "metadata": {},
   "source": [
    "13. Explain the concept of 'lazy evaluation' in the context of generator functions."
   ]
  },
  {
   "cell_type": "raw",
   "id": "a0888f4e",
   "metadata": {},
   "source": [
    "lazy evaluation in the context of generator functions allows for the efficient and on-demand generation of values. This concept is particularly valuable in situations where memory conservation is crucial, such as when working with large datasets or when dealing with infinite sequences. The ability to produce values dynamically as needed is a fundamental feature of generators in Python."
   ]
  },
  {
   "cell_type": "markdown",
   "id": "433f0337",
   "metadata": {},
   "source": [
    "14. Discuss a real-world scenario where the use of map, reduce, or filter functions can be beneficial."
   ]
  },
  {
   "cell_type": "code",
   "execution_count": 9,
   "id": "7ddd0b86",
   "metadata": {},
   "outputs": [],
   "source": [
    "documents = [\"This is document 1.\", \"Another document here.\", \"Document number three.\"]\n",
    "\n",
    "def tokenize(document):\n",
    "    return document.lower().split()\n",
    "\n",
    "tokenized_documents = map(tokenize, documents)"
   ]
  },
  {
   "cell_type": "code",
   "execution_count": 10,
   "id": "260a10d6",
   "metadata": {},
   "outputs": [],
   "source": [
    "stop_words = [\"is\", \"this\", \"and\", \"number\", \"here\"]\n",
    "\n",
    "def filter_stop_words(tokens):\n",
    "    return filter(lambda token: token not in stop_words, tokens)\n",
    "\n",
    "filtered_documents = map(filter_stop_words, tokenized_documents)"
   ]
  },
  {
   "cell_type": "code",
   "execution_count": 11,
   "id": "7302bcad",
   "metadata": {},
   "outputs": [],
   "source": [
    "from collections import Counter\n",
    "import operator\n",
    "\n",
    "def calculate_word_frequencies(accumulator, tokens):\n",
    "    return accumulator + Counter(tokens)\n",
    "\n",
    "total_word_frequencies = reduce(calculate_word_frequencies, filtered_documents, Counter())"
   ]
  },
  {
   "cell_type": "code",
   "execution_count": 12,
   "id": "9efd9434",
   "metadata": {},
   "outputs": [],
   "source": [
    "document_lengths = map(len, filtered_documents)\n"
   ]
  },
  {
   "cell_type": "code",
   "execution_count": null,
   "id": "8f0a2a99",
   "metadata": {},
   "outputs": [],
   "source": []
  }
 ],
 "metadata": {
  "kernelspec": {
   "display_name": "Python 3 (ipykernel)",
   "language": "python",
   "name": "python3"
  },
  "language_info": {
   "codemirror_mode": {
    "name": "ipython",
    "version": 3
   },
   "file_extension": ".py",
   "mimetype": "text/x-python",
   "name": "python",
   "nbconvert_exporter": "python",
   "pygments_lexer": "ipython3",
   "version": "3.10.13"
  }
 },
 "nbformat": 4,
 "nbformat_minor": 5
}
