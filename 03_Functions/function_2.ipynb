{
 "cells": [
  {
   "cell_type": "code",
   "execution_count": 1,
   "id": "6a78a7da",
   "metadata": {},
   "outputs": [],
   "source": [
    "def test(a,b,c,d,e):\n",
    "    pass"
   ]
  },
  {
   "cell_type": "code",
   "execution_count": 2,
   "id": "d040845d",
   "metadata": {},
   "outputs": [],
   "source": [
    "test(1,2,3,4,5)"
   ]
  },
  {
   "cell_type": "code",
   "execution_count": 4,
   "id": "c26d9629",
   "metadata": {},
   "outputs": [
    {
     "ename": "TypeError",
     "evalue": "test() takes 5 positional arguments but 7 were given",
     "output_type": "error",
     "traceback": [
      "\u001b[1;31m---------------------------------------------------------------------------\u001b[0m",
      "\u001b[1;31mTypeError\u001b[0m                                 Traceback (most recent call last)",
      "Cell \u001b[1;32mIn[4], line 1\u001b[0m\n\u001b[1;32m----> 1\u001b[0m \u001b[43mtest\u001b[49m\u001b[43m(\u001b[49m\u001b[38;5;241;43m1\u001b[39;49m\u001b[43m,\u001b[49m\u001b[38;5;241;43m2\u001b[39;49m\u001b[43m,\u001b[49m\u001b[38;5;241;43m3\u001b[39;49m\u001b[43m,\u001b[49m\u001b[38;5;241;43m4\u001b[39;49m\u001b[43m,\u001b[49m\u001b[38;5;241;43m5\u001b[39;49m\u001b[43m,\u001b[49m\u001b[38;5;241;43m6\u001b[39;49m\u001b[43m,\u001b[49m\u001b[38;5;241;43m7\u001b[39;49m\u001b[43m)\u001b[49m\n",
      "\u001b[1;31mTypeError\u001b[0m: test() takes 5 positional arguments but 7 were given"
     ]
    }
   ],
   "source": [
    "test(1,2,3,4,5,6,7)"
   ]
  },
  {
   "cell_type": "code",
   "execution_count": 6,
   "id": "37c9f706",
   "metadata": {},
   "outputs": [],
   "source": [
    "def test1(*args):\n",
    "    return args  #args - any number of arguments"
   ]
  },
  {
   "cell_type": "code",
   "execution_count": 7,
   "id": "21bd225a",
   "metadata": {},
   "outputs": [
    {
     "data": {
      "text/plain": [
       "(7,)"
      ]
     },
     "execution_count": 7,
     "metadata": {},
     "output_type": "execute_result"
    }
   ],
   "source": [
    "test1(7)"
   ]
  },
  {
   "cell_type": "code",
   "execution_count": 8,
   "id": "e2abaebb",
   "metadata": {},
   "outputs": [
    {
     "data": {
      "text/plain": [
       "(1, 2, 3, 4)"
      ]
     },
     "execution_count": 8,
     "metadata": {},
     "output_type": "execute_result"
    }
   ],
   "source": [
    "test1(1,2,3,4)"
   ]
  },
  {
   "cell_type": "code",
   "execution_count": 9,
   "id": "8cfb5bf6",
   "metadata": {},
   "outputs": [
    {
     "data": {
      "text/plain": [
       "((1, 2, 3, 4, 8),)"
      ]
     },
     "execution_count": 9,
     "metadata": {},
     "output_type": "execute_result"
    }
   ],
   "source": [
    "test1((1,2,3,4,8))"
   ]
  },
  {
   "cell_type": "code",
   "execution_count": 12,
   "id": "5c672afe",
   "metadata": {},
   "outputs": [],
   "source": [
    "def test2(*raja):\n",
    "    return raja"
   ]
  },
  {
   "cell_type": "code",
   "execution_count": 14,
   "id": "21d7ba2e",
   "metadata": {},
   "outputs": [
    {
     "data": {
      "text/plain": [
       "(1, 2, 3)"
      ]
     },
     "execution_count": 14,
     "metadata": {},
     "output_type": "execute_result"
    }
   ],
   "source": [
    "test2(1,2,3)"
   ]
  },
  {
   "cell_type": "code",
   "execution_count": 15,
   "id": "6423c6f2",
   "metadata": {},
   "outputs": [],
   "source": [
    "def test3(*args, a):\n",
    "    return args, a"
   ]
  },
  {
   "cell_type": "code",
   "execution_count": 16,
   "id": "374ac054",
   "metadata": {},
   "outputs": [
    {
     "ename": "TypeError",
     "evalue": "test3() missing 1 required keyword-only argument: 'a'",
     "output_type": "error",
     "traceback": [
      "\u001b[1;31m---------------------------------------------------------------------------\u001b[0m",
      "\u001b[1;31mTypeError\u001b[0m                                 Traceback (most recent call last)",
      "Cell \u001b[1;32mIn[16], line 1\u001b[0m\n\u001b[1;32m----> 1\u001b[0m \u001b[43mtest3\u001b[49m\u001b[43m(\u001b[49m\u001b[38;5;241;43m4\u001b[39;49m\u001b[43m)\u001b[49m\n",
      "\u001b[1;31mTypeError\u001b[0m: test3() missing 1 required keyword-only argument: 'a'"
     ]
    }
   ],
   "source": [
    "test3(4)"
   ]
  },
  {
   "cell_type": "code",
   "execution_count": 18,
   "id": "304689f7",
   "metadata": {},
   "outputs": [
    {
     "data": {
      "text/plain": [
       "((4,), 6)"
      ]
     },
     "execution_count": 18,
     "metadata": {},
     "output_type": "execute_result"
    }
   ],
   "source": [
    "test3(4, a=6)"
   ]
  },
  {
   "cell_type": "code",
   "execution_count": 19,
   "id": "3b14595e",
   "metadata": {},
   "outputs": [],
   "source": [
    "def test4(*args):\n",
    "    l = []\n",
    "    for i in args:\n",
    "        if type(i)==list:\n",
    "            l.append(i)\n",
    "    return l"
   ]
  },
  {
   "cell_type": "code",
   "execution_count": 20,
   "id": "75144b19",
   "metadata": {},
   "outputs": [
    {
     "data": {
      "text/plain": [
       "[[1, 2]]"
      ]
     },
     "execution_count": 20,
     "metadata": {},
     "output_type": "execute_result"
    }
   ],
   "source": [
    "test4([1,2], (1,2), 1, 2)"
   ]
  },
  {
   "cell_type": "code",
   "execution_count": 21,
   "id": "561d75af",
   "metadata": {},
   "outputs": [],
   "source": [
    "def test5(**kwargs):\n",
    "    return kwargs"
   ]
  },
  {
   "cell_type": "code",
   "execution_count": 22,
   "id": "3584061b",
   "metadata": {},
   "outputs": [
    {
     "data": {
      "text/plain": [
       "{}"
      ]
     },
     "execution_count": 22,
     "metadata": {},
     "output_type": "execute_result"
    }
   ],
   "source": [
    "test5()"
   ]
  },
  {
   "cell_type": "code",
   "execution_count": 24,
   "id": "3ac7fdde",
   "metadata": {},
   "outputs": [
    {
     "data": {
      "text/plain": [
       "dict"
      ]
     },
     "execution_count": 24,
     "metadata": {},
     "output_type": "execute_result"
    }
   ],
   "source": [
    "type(test5())"
   ]
  },
  {
   "cell_type": "code",
   "execution_count": 26,
   "id": "7e6f7f9b",
   "metadata": {},
   "outputs": [
    {
     "data": {
      "text/plain": [
       "{'a': 10, 'b': 20, 'c': 'raja', 'd': [1, 2, 3]}"
      ]
     },
     "execution_count": 26,
     "metadata": {},
     "output_type": "execute_result"
    }
   ],
   "source": [
    "test5(a=10, b=20, c='raja', d=[1,2,3])"
   ]
  },
  {
   "cell_type": "code",
   "execution_count": 35,
   "id": "f2178cbf",
   "metadata": {},
   "outputs": [],
   "source": [
    "def test5(**kwargs):\n",
    "    for i in kwargs.keys():\n",
    "        if type(kwargs[i])==list:\n",
    "            return i,kwargs[i]"
   ]
  },
  {
   "cell_type": "code",
   "execution_count": 36,
   "id": "a9cf61c0",
   "metadata": {},
   "outputs": [
    {
     "data": {
      "text/plain": [
       "('d', [1, 2, 3])"
      ]
     },
     "execution_count": 36,
     "metadata": {},
     "output_type": "execute_result"
    }
   ],
   "source": [
    "test5(a=10, b=20, c='raja', d=[1,2,3])"
   ]
  },
  {
   "cell_type": "code",
   "execution_count": 42,
   "id": "eb9a86ab",
   "metadata": {},
   "outputs": [],
   "source": [
    "def test7(*args, **kwargs):\n",
    "    return args, kwargs"
   ]
  },
  {
   "cell_type": "code",
   "execution_count": 43,
   "id": "909e692f",
   "metadata": {},
   "outputs": [
    {
     "data": {
      "text/plain": [
       "((), {'a': 10, 'b': 20, 'c': 'raja', 'd': [1, 2, 3]})"
      ]
     },
     "execution_count": 43,
     "metadata": {},
     "output_type": "execute_result"
    }
   ],
   "source": [
    "test7(a=10, b=20, c='raja', d=[1,2,3])"
   ]
  },
  {
   "cell_type": "code",
   "execution_count": null,
   "id": "3975ad30",
   "metadata": {},
   "outputs": [],
   "source": []
  }
 ],
 "metadata": {
  "kernelspec": {
   "display_name": "Python 3 (ipykernel)",
   "language": "python",
   "name": "python3"
  },
  "language_info": {
   "codemirror_mode": {
    "name": "ipython",
    "version": 3
   },
   "file_extension": ".py",
   "mimetype": "text/x-python",
   "name": "python",
   "nbconvert_exporter": "python",
   "pygments_lexer": "ipython3",
   "version": "3.10.13"
  }
 },
 "nbformat": 4,
 "nbformat_minor": 5
}
