{
 "cells": [
  {
   "cell_type": "code",
   "execution_count": 1,
   "id": "ba7062e7",
   "metadata": {},
   "outputs": [],
   "source": [
    "l = [1,2,3,4,5]"
   ]
  },
  {
   "cell_type": "code",
   "execution_count": 2,
   "id": "64ba2bd9",
   "metadata": {},
   "outputs": [],
   "source": [
    "def test(l):\n",
    "    n = []\n",
    "    for i in l:\n",
    "        if type(i)==int:\n",
    "            n.append(i**2)\n",
    "    return n"
   ]
  },
  {
   "cell_type": "code",
   "execution_count": 3,
   "id": "aa1b5e1b",
   "metadata": {},
   "outputs": [
    {
     "data": {
      "text/plain": [
       "[1, 4, 9, 16, 25]"
      ]
     },
     "execution_count": 3,
     "metadata": {},
     "output_type": "execute_result"
    }
   ],
   "source": [
    "test(l)"
   ]
  },
  {
   "cell_type": "code",
   "execution_count": 4,
   "id": "981ae357",
   "metadata": {},
   "outputs": [],
   "source": [
    "def squ(x):\n",
    "    return x**2"
   ]
  },
  {
   "cell_type": "code",
   "execution_count": 5,
   "id": "d5d37c26",
   "metadata": {},
   "outputs": [
    {
     "data": {
      "text/plain": [
       "<map at 0x2b72c1113c0>"
      ]
     },
     "execution_count": 5,
     "metadata": {},
     "output_type": "execute_result"
    }
   ],
   "source": [
    "map(squ, l)"
   ]
  },
  {
   "cell_type": "code",
   "execution_count": 6,
   "id": "f29e8d9b",
   "metadata": {},
   "outputs": [
    {
     "data": {
      "text/plain": [
       "[1, 4, 9, 16, 25]"
      ]
     },
     "execution_count": 6,
     "metadata": {},
     "output_type": "execute_result"
    }
   ],
   "source": [
    "list(map(squ, l))"
   ]
  },
  {
   "cell_type": "code",
   "execution_count": 13,
   "id": "0e9b7714",
   "metadata": {},
   "outputs": [
    {
     "name": "stdout",
     "output_type": "stream",
     "text": [
      "[5, 7, 9]\n"
     ]
    }
   ],
   "source": [
    "l1 = [1,2,3]\n",
    "l2 = [4,5,6]\n",
    "\n",
    "l = []\n",
    "for i in range(len(l1)):\n",
    "    l.append(l1[i]+l2[i])\n",
    "print(l)\n"
   ]
  },
  {
   "cell_type": "code",
   "execution_count": 16,
   "id": "61898d98",
   "metadata": {},
   "outputs": [
    {
     "data": {
      "text/plain": [
       "range(0, 10)"
      ]
     },
     "execution_count": 16,
     "metadata": {},
     "output_type": "execute_result"
    }
   ],
   "source": [
    "range(10)"
   ]
  },
  {
   "cell_type": "code",
   "execution_count": 19,
   "id": "9770a6ba",
   "metadata": {},
   "outputs": [
    {
     "data": {
      "text/plain": [
       "[0, 1, 2, 3, 4, 5, 6, 7, 8, 9]"
      ]
     },
     "execution_count": 19,
     "metadata": {},
     "output_type": "execute_result"
    }
   ],
   "source": [
    "a = list(range(10))\n",
    "a"
   ]
  },
  {
   "cell_type": "code",
   "execution_count": 23,
   "id": "7d80ec8e",
   "metadata": {},
   "outputs": [
    {
     "data": {
      "text/plain": [
       "[0, 1, 2]"
      ]
     },
     "execution_count": 23,
     "metadata": {},
     "output_type": "execute_result"
    }
   ],
   "source": [
    "a = [10,20,30]\n",
    "list(range(len(a)))"
   ]
  },
  {
   "cell_type": "code",
   "execution_count": 24,
   "id": "286f196d",
   "metadata": {},
   "outputs": [],
   "source": [
    "a = lambda x,y : x+y"
   ]
  },
  {
   "cell_type": "code",
   "execution_count": 25,
   "id": "09211c37",
   "metadata": {},
   "outputs": [
    {
     "data": {
      "text/plain": [
       "<map at 0x2b72bb00f40>"
      ]
     },
     "execution_count": 25,
     "metadata": {},
     "output_type": "execute_result"
    }
   ],
   "source": [
    "map(a, (l1,l2))"
   ]
  },
  {
   "cell_type": "code",
   "execution_count": 27,
   "id": "84836004",
   "metadata": {},
   "outputs": [
    {
     "data": {
      "text/plain": [
       "[5, 7, 9]"
      ]
     },
     "execution_count": 27,
     "metadata": {},
     "output_type": "execute_result"
    }
   ],
   "source": [
    "list(map(a, l1,l2))"
   ]
  },
  {
   "cell_type": "code",
   "execution_count": 28,
   "id": "1f58e03b",
   "metadata": {},
   "outputs": [],
   "source": [
    "s = 'raja'\n",
    "def con_upp(s):\n",
    "    l = []\n",
    "    for i in s:\n",
    "        l.append(i.upper())\n",
    "    return l        "
   ]
  },
  {
   "cell_type": "code",
   "execution_count": 29,
   "id": "2d9dd717",
   "metadata": {},
   "outputs": [
    {
     "data": {
      "text/plain": [
       "['R', 'A', 'J', 'A']"
      ]
     },
     "execution_count": 29,
     "metadata": {},
     "output_type": "execute_result"
    }
   ],
   "source": [
    "con_upp(s)"
   ]
  },
  {
   "cell_type": "code",
   "execution_count": 30,
   "id": "ff7d5f13",
   "metadata": {},
   "outputs": [],
   "source": [
    "a = con_upp(s)"
   ]
  },
  {
   "cell_type": "code",
   "execution_count": 33,
   "id": "af805670",
   "metadata": {},
   "outputs": [
    {
     "ename": "TypeError",
     "evalue": "'list' object is not callable",
     "output_type": "error",
     "traceback": [
      "\u001b[1;31m---------------------------------------------------------------------------\u001b[0m",
      "\u001b[1;31mTypeError\u001b[0m                                 Traceback (most recent call last)",
      "Cell \u001b[1;32mIn[33], line 1\u001b[0m\n\u001b[1;32m----> 1\u001b[0m \u001b[38;5;28;43mlist\u001b[39;49m\u001b[43m(\u001b[49m\u001b[38;5;28;43mmap\u001b[39;49m\u001b[43m(\u001b[49m\u001b[43ma\u001b[49m\u001b[43m,\u001b[49m\u001b[43m \u001b[49m\u001b[43ms\u001b[49m\u001b[43m)\u001b[49m\u001b[43m)\u001b[49m\n",
      "\u001b[1;31mTypeError\u001b[0m: 'list' object is not callable"
     ]
    }
   ],
   "source": [
    "list(map(a, s))"
   ]
  },
  {
   "cell_type": "code",
   "execution_count": 34,
   "id": "cc2a6393",
   "metadata": {},
   "outputs": [
    {
     "data": {
      "text/plain": [
       "10"
      ]
     },
     "execution_count": 34,
     "metadata": {},
     "output_type": "execute_result"
    }
   ],
   "source": [
    "l = [1,2,3,4]\n",
    "sum(l)"
   ]
  },
  {
   "cell_type": "code",
   "execution_count": 35,
   "id": "5fa5bb02",
   "metadata": {},
   "outputs": [],
   "source": [
    "from functools import reduce"
   ]
  },
  {
   "cell_type": "code",
   "execution_count": 36,
   "id": "161b9250",
   "metadata": {},
   "outputs": [
    {
     "data": {
      "text/plain": [
       "10"
      ]
     },
     "execution_count": 36,
     "metadata": {},
     "output_type": "execute_result"
    }
   ],
   "source": [
    "reduce(lambda x,y:x+y, l)"
   ]
  },
  {
   "cell_type": "code",
   "execution_count": 37,
   "id": "52638ccd",
   "metadata": {},
   "outputs": [
    {
     "data": {
      "text/plain": [
       "[1, 2, 3, 4]"
      ]
     },
     "execution_count": 37,
     "metadata": {},
     "output_type": "execute_result"
    }
   ],
   "source": [
    "l"
   ]
  },
  {
   "cell_type": "code",
   "execution_count": 40,
   "id": "11d37d5b",
   "metadata": {},
   "outputs": [
    {
     "data": {
      "text/plain": [
       "4"
      ]
     },
     "execution_count": 40,
     "metadata": {},
     "output_type": "execute_result"
    }
   ],
   "source": [
    "max(l)"
   ]
  },
  {
   "cell_type": "code",
   "execution_count": 41,
   "id": "a3f243be",
   "metadata": {},
   "outputs": [
    {
     "name": "stdout",
     "output_type": "stream",
     "text": [
      "[5, 7, 9]\n"
     ]
    }
   ],
   "source": [
    "l1 = [1, 2, 3]\n",
    "l2 = [4, 5, 6]\n",
    "\n",
    "output_list = [x + y for x, y in zip(l1, l2)]\n",
    "\n",
    "print(output_list)"
   ]
  },
  {
   "cell_type": "code",
   "execution_count": null,
   "id": "a1a81c8a",
   "metadata": {},
   "outputs": [],
   "source": []
  }
 ],
 "metadata": {
  "kernelspec": {
   "display_name": "Python 3 (ipykernel)",
   "language": "python",
   "name": "python3"
  },
  "language_info": {
   "codemirror_mode": {
    "name": "ipython",
    "version": 3
   },
   "file_extension": ".py",
   "mimetype": "text/x-python",
   "name": "python",
   "nbconvert_exporter": "python",
   "pygments_lexer": "ipython3",
   "version": "3.10.13"
  }
 },
 "nbformat": 4,
 "nbformat_minor": 5
}
