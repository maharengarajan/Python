{
 "cells": [
  {
   "cell_type": "code",
   "execution_count": 3,
   "id": "725f1e66",
   "metadata": {},
   "outputs": [],
   "source": [
    "def my_generator(): \n",
    "    yield 1 \n",
    "    yield 2 \n",
    "    yield 3"
   ]
  },
  {
   "cell_type": "code",
   "execution_count": 5,
   "id": "4b67ae69",
   "metadata": {},
   "outputs": [
    {
     "data": {
      "text/plain": [
       "[1, 2, 3]"
      ]
     },
     "execution_count": 5,
     "metadata": {},
     "output_type": "execute_result"
    }
   ],
   "source": [
    "list(my_generator())"
   ]
  },
  {
   "cell_type": "code",
   "execution_count": 6,
   "id": "68ec58bc",
   "metadata": {},
   "outputs": [],
   "source": [
    "def square(x): \n",
    "    return x * x "
   ]
  },
  {
   "cell_type": "code",
   "execution_count": 7,
   "id": "82a521e9",
   "metadata": {},
   "outputs": [
    {
     "name": "stdout",
     "output_type": "stream",
     "text": [
      "[1, 4, 9, 16]\n"
     ]
    }
   ],
   "source": [
    "numbers = [1, 2, 3, 4] \n",
    "squared_numbers = map(square, numbers) \n",
    "print(list(squared_numbers))"
   ]
  },
  {
   "cell_type": "code",
   "execution_count": 8,
   "id": "bc5c3a78",
   "metadata": {},
   "outputs": [
    {
     "name": "stdout",
     "output_type": "stream",
     "text": [
      "[2, 4]\n"
     ]
    }
   ],
   "source": [
    "numbers = [1, 2, 3, 4, 5] \n",
    "filtered_numbers = filter(lambda x: x % 2 == 0, numbers) \n",
    "print(list(filtered_numbers))"
   ]
  },
  {
   "cell_type": "code",
   "execution_count": 9,
   "id": "e2774cdc",
   "metadata": {},
   "outputs": [
    {
     "name": "stdout",
     "output_type": "stream",
     "text": [
      "1\n"
     ]
    }
   ],
   "source": [
    "my_list = [1, 2, 3, 4, 5] \n",
    "result = (x**2 for x in my_list) \n",
    "print(next(result))"
   ]
  },
  {
   "cell_type": "code",
   "execution_count": 11,
   "id": "805b1474",
   "metadata": {},
   "outputs": [
    {
     "name": "stdout",
     "output_type": "stream",
     "text": [
      "1\n"
     ]
    }
   ],
   "source": [
    "my_list = [1, 2, 3, 4, 5] \n",
    "result = (x**2 for x in my_list) \n",
    "print(next(result))"
   ]
  },
  {
   "cell_type": "code",
   "execution_count": 12,
   "id": "bd9aadf1",
   "metadata": {},
   "outputs": [
    {
     "name": "stdout",
     "output_type": "stream",
     "text": [
      "<generator object <genexpr> at 0x000001B618001380>\n"
     ]
    }
   ],
   "source": [
    "print(result)"
   ]
  },
  {
   "cell_type": "code",
   "execution_count": 17,
   "id": "86cdb715",
   "metadata": {},
   "outputs": [],
   "source": [
    "def my_generator(): \n",
    "    yield 1 \n",
    "    yield 2 \n",
    "    yield 3"
   ]
  },
  {
   "cell_type": "code",
   "execution_count": 18,
   "id": "f5200c93",
   "metadata": {},
   "outputs": [
    {
     "data": {
      "text/plain": [
       "<function __main__.my_generator()>"
      ]
     },
     "execution_count": 18,
     "metadata": {},
     "output_type": "execute_result"
    }
   ],
   "source": [
    "my_generator"
   ]
  },
  {
   "cell_type": "code",
   "execution_count": 19,
   "id": "fedfce22",
   "metadata": {},
   "outputs": [
    {
     "name": "stdout",
     "output_type": "stream",
     "text": [
      "<function my_generator at 0x000001B617FD97E0>\n"
     ]
    }
   ],
   "source": [
    "print(my_generator)"
   ]
  },
  {
   "cell_type": "code",
   "execution_count": null,
   "id": "4d12e701",
   "metadata": {},
   "outputs": [],
   "source": []
  }
 ],
 "metadata": {
  "kernelspec": {
   "display_name": "Python 3 (ipykernel)",
   "language": "python",
   "name": "python3"
  },
  "language_info": {
   "codemirror_mode": {
    "name": "ipython",
    "version": 3
   },
   "file_extension": ".py",
   "mimetype": "text/x-python",
   "name": "python",
   "nbconvert_exporter": "python",
   "pygments_lexer": "ipython3",
   "version": "3.10.13"
  }
 },
 "nbformat": 4,
 "nbformat_minor": 5
}
