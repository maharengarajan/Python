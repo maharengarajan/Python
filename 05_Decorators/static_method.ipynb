{
 "cells": [
  {
   "cell_type": "code",
   "execution_count": 1,
   "id": "c2228ebc",
   "metadata": {},
   "outputs": [],
   "source": [
    "class pwskills:\n",
    "    def student_details(self, name, mail, number):\n",
    "        print(name, mail, number)"
   ]
  },
  {
   "cell_type": "code",
   "execution_count": 2,
   "id": "5e38e61d",
   "metadata": {},
   "outputs": [],
   "source": [
    "pw = pwskills()"
   ]
  },
  {
   "cell_type": "code",
   "execution_count": 4,
   "id": "46ea2955",
   "metadata": {},
   "outputs": [
    {
     "name": "stdout",
     "output_type": "stream",
     "text": [
      "sudh sudh@gami.com 123456\n"
     ]
    }
   ],
   "source": [
    "pw.student_details('sudh','sudh@gami.com', 123456)"
   ]
  },
  {
   "cell_type": "code",
   "execution_count": 11,
   "id": "24bd5961",
   "metadata": {},
   "outputs": [],
   "source": [
    "class pwskills1:\n",
    "    def student_details(self, name, mail, number):\n",
    "        print(name, mail, number)\n",
    "    \n",
    "    @staticmethod\n",
    "    def mentor_class(mentor_name):\n",
    "        print(mentor_name)"
   ]
  },
  {
   "cell_type": "code",
   "execution_count": 12,
   "id": "8e58543c",
   "metadata": {},
   "outputs": [
    {
     "name": "stdout",
     "output_type": "stream",
     "text": [
      "['raja', 'yoga']\n"
     ]
    }
   ],
   "source": [
    "pwskills1.mentor_class(['raja', 'yoga'])"
   ]
  },
  {
   "cell_type": "code",
   "execution_count": 14,
   "id": "d5f61d91",
   "metadata": {},
   "outputs": [],
   "source": [
    "class pwskills2:\n",
    "    def student_details(self, name, mail, number):\n",
    "        print(name, mail, number)\n",
    "    \n",
    "    @staticmethod\n",
    "    def mentor_class(mentor_name):\n",
    "        print(mentor_name)\n",
    "        \n",
    "    def mentor(self, mentor_list):\n",
    "        print(mentor_list)"
   ]
  },
  {
   "cell_type": "code",
   "execution_count": 15,
   "id": "fc53ce47",
   "metadata": {},
   "outputs": [],
   "source": [
    "pw2 = pwskills2()"
   ]
  },
  {
   "cell_type": "code",
   "execution_count": 17,
   "id": "1e0912ee",
   "metadata": {},
   "outputs": [
    {
     "name": "stdout",
     "output_type": "stream",
     "text": [
      "['dfgh', 'raja']\n"
     ]
    }
   ],
   "source": [
    "pw2.mentor(['dfgh', 'raja'])"
   ]
  },
  {
   "cell_type": "code",
   "execution_count": 18,
   "id": "2bb87ee8",
   "metadata": {},
   "outputs": [
    {
     "name": "stdout",
     "output_type": "stream",
     "text": [
      "['dfgh', 'raja']\n"
     ]
    }
   ],
   "source": [
    "pwskills2.mentor_class(['dfgh', 'raja'])"
   ]
  },
  {
   "cell_type": "code",
   "execution_count": 19,
   "id": "66ac82db",
   "metadata": {},
   "outputs": [
    {
     "name": "stdout",
     "output_type": "stream",
     "text": [
      "Enter a string: aaa\n",
      "Mismatch count: 0\n"
     ]
    }
   ],
   "source": [
    "def mismatch_count(original_str):\n",
    "    reversed_str = original_str[::-1]\n",
    "\n",
    "    # Ensure both strings have the same length\n",
    "    if len(original_str) != len(reversed_str):\n",
    "        raise ValueError(\"Input strings must have the same length\")\n",
    "\n",
    "    # Calculate mismatch count\n",
    "    mismatch_count = sum(1 for char1, char2 in zip(original_str, reversed_str) if char1 != char2)\n",
    "\n",
    "    return mismatch_count\n",
    "\n",
    "# Example usage\n",
    "input_string = input(\"Enter a string: \")\n",
    "result = mismatch_count(input_string)\n",
    "print(f\"Mismatch count: {result}\")\n"
   ]
  },
  {
   "cell_type": "code",
   "execution_count": 28,
   "id": "e8275f73",
   "metadata": {},
   "outputs": [],
   "source": [
    "name = 'raja'\n",
    "reverse_name = name[::-1]\n",
    "\n",
    "def count_mismatch(name):\n",
    "    mismatch_count = 0\n",
    "    \n",
    "    for i, j in zip(name, reverse_name):\n",
    "        if i != j:\n",
    "            mismatch_count += 1\n",
    "    return count_mismatch"
   ]
  },
  {
   "cell_type": "code",
   "execution_count": 30,
   "id": "1c122a20",
   "metadata": {},
   "outputs": [
    {
     "data": {
      "text/plain": [
       "<function __main__.count_mismatch(name)>"
      ]
     },
     "execution_count": 30,
     "metadata": {},
     "output_type": "execute_result"
    }
   ],
   "source": [
    "count_mismatch(name)"
   ]
  },
  {
   "cell_type": "code",
   "execution_count": 42,
   "id": "e526f7d1",
   "metadata": {},
   "outputs": [
    {
     "name": "stdout",
     "output_type": "stream",
     "text": [
      "number of mismact in raja is <function mismatch_count at 0x0000024366CF20E0>\n"
     ]
    }
   ],
   "source": [
    "def count_mismatch(name):\n",
    "    name = input('Pls enter any string ')\n",
    "    reversed_name = name[::-1]\n",
    "    \n",
    "    mismatch_count = 0\n",
    "    \n",
    "    for i,j in zip(name, reversed_name):\n",
    "        if i != j:\n",
    "            mismatch_count += 1\n",
    "    return mismatch_count"
   ]
  },
  {
   "cell_type": "code",
   "execution_count": 41,
   "id": "6b0515f4",
   "metadata": {},
   "outputs": [
    {
     "name": "stdout",
     "output_type": "stream",
     "text": [
      "Pls enter any string aaaa\n"
     ]
    },
    {
     "data": {
      "text/plain": [
       "0"
      ]
     },
     "execution_count": 41,
     "metadata": {},
     "output_type": "execute_result"
    }
   ],
   "source": [
    "count_mismatch(name)"
   ]
  },
  {
   "cell_type": "code",
   "execution_count": 39,
   "id": "890baaba",
   "metadata": {},
   "outputs": [
    {
     "name": "stdout",
     "output_type": "stream",
     "text": [
      "Pls enter any string raja\n"
     ]
    },
    {
     "data": {
      "text/plain": [
       "4"
      ]
     },
     "execution_count": 39,
     "metadata": {},
     "output_type": "execute_result"
    }
   ],
   "source": [
    "count_mismatch(name)"
   ]
  },
  {
   "cell_type": "code",
   "execution_count": null,
   "id": "6384d089",
   "metadata": {},
   "outputs": [],
   "source": []
  }
 ],
 "metadata": {
  "kernelspec": {
   "display_name": "Python 3 (ipykernel)",
   "language": "python",
   "name": "python3"
  },
  "language_info": {
   "codemirror_mode": {
    "name": "ipython",
    "version": 3
   },
   "file_extension": ".py",
   "mimetype": "text/x-python",
   "name": "python",
   "nbconvert_exporter": "python",
   "pygments_lexer": "ipython3",
   "version": "3.10.13"
  }
 },
 "nbformat": 4,
 "nbformat_minor": 5
}
