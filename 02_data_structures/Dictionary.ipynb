{
 "cells": [
  {
   "cell_type": "code",
   "execution_count": 1,
   "id": "3a53c7b5",
   "metadata": {},
   "outputs": [],
   "source": [
    "d = {}"
   ]
  },
  {
   "cell_type": "code",
   "execution_count": 2,
   "id": "c4478c99",
   "metadata": {},
   "outputs": [
    {
     "data": {
      "text/plain": [
       "dict"
      ]
     },
     "execution_count": 2,
     "metadata": {},
     "output_type": "execute_result"
    }
   ],
   "source": [
    "type(d)"
   ]
  },
  {
   "cell_type": "code",
   "execution_count": 3,
   "id": "fd9bfc9f",
   "metadata": {},
   "outputs": [],
   "source": [
    "d1 = {'key1':'raja', 'key2':'yoga'}"
   ]
  },
  {
   "cell_type": "code",
   "execution_count": 4,
   "id": "9ee2b164",
   "metadata": {},
   "outputs": [
    {
     "data": {
      "text/plain": [
       "dict_keys(['key1', 'key2'])"
      ]
     },
     "execution_count": 4,
     "metadata": {},
     "output_type": "execute_result"
    }
   ],
   "source": [
    "d1.keys()"
   ]
  },
  {
   "cell_type": "code",
   "execution_count": 5,
   "id": "6d9c1a95",
   "metadata": {},
   "outputs": [
    {
     "data": {
      "text/plain": [
       "dict_values(['raja', 'yoga'])"
      ]
     },
     "execution_count": 5,
     "metadata": {},
     "output_type": "execute_result"
    }
   ],
   "source": [
    "d1.values()"
   ]
  },
  {
   "cell_type": "code",
   "execution_count": 6,
   "id": "21dc9ed6",
   "metadata": {},
   "outputs": [
    {
     "data": {
      "text/plain": [
       "dict_items([('key1', 'raja'), ('key2', 'yoga')])"
      ]
     },
     "execution_count": 6,
     "metadata": {},
     "output_type": "execute_result"
    }
   ],
   "source": [
    "d1.items()"
   ]
  },
  {
   "cell_type": "code",
   "execution_count": 7,
   "id": "e63e34a8",
   "metadata": {},
   "outputs": [
    {
     "data": {
      "text/plain": [
       "'raja'"
      ]
     },
     "execution_count": 7,
     "metadata": {},
     "output_type": "execute_result"
    }
   ],
   "source": [
    "d1['key1']"
   ]
  },
  {
   "cell_type": "code",
   "execution_count": 8,
   "id": "e1690c74",
   "metadata": {},
   "outputs": [
    {
     "ename": "AttributeError",
     "evalue": "'dict' object has no attribute 'key1'",
     "output_type": "error",
     "traceback": [
      "\u001b[1;31m---------------------------------------------------------------------------\u001b[0m",
      "\u001b[1;31mAttributeError\u001b[0m                            Traceback (most recent call last)",
      "Cell \u001b[1;32mIn[8], line 1\u001b[0m\n\u001b[1;32m----> 1\u001b[0m \u001b[43md1\u001b[49m\u001b[38;5;241;43m.\u001b[39;49m\u001b[43mkey1\u001b[49m\n",
      "\u001b[1;31mAttributeError\u001b[0m: 'dict' object has no attribute 'key1'"
     ]
    }
   ],
   "source": [
    "d1.key1"
   ]
  },
  {
   "cell_type": "code",
   "execution_count": 9,
   "id": "5d1c7c22",
   "metadata": {},
   "outputs": [
    {
     "data": {
      "text/plain": [
       "{'name': 'maha@gmail.com'}"
      ]
     },
     "execution_count": 9,
     "metadata": {},
     "output_type": "execute_result"
    }
   ],
   "source": [
    "d2 = {'name': 'raja', 'name':'maha@gmail.com'}\n",
    "d2"
   ]
  },
  {
   "cell_type": "code",
   "execution_count": 10,
   "id": "66cfb2de",
   "metadata": {},
   "outputs": [
    {
     "data": {
      "text/plain": [
       "{'123.123': 123.123}"
      ]
     },
     "execution_count": 10,
     "metadata": {},
     "output_type": "execute_result"
    }
   ],
   "source": [
    "d2 = {'123.123': 123.123}\n",
    "d2"
   ]
  },
  {
   "cell_type": "code",
   "execution_count": 11,
   "id": "0d3d71e3",
   "metadata": {},
   "outputs": [
    {
     "data": {
      "text/plain": [
       "{True: 123.123}"
      ]
     },
     "execution_count": 11,
     "metadata": {},
     "output_type": "execute_result"
    }
   ],
   "source": [
    "d2 = {True: 123.123}\n",
    "d2"
   ]
  },
  {
   "cell_type": "code",
   "execution_count": 12,
   "id": "b9e1a9d9",
   "metadata": {},
   "outputs": [
    {
     "ename": "SyntaxError",
     "evalue": "invalid syntax (4027666640.py, line 1)",
     "output_type": "error",
     "traceback": [
      "\u001b[1;36m  Cell \u001b[1;32mIn[12], line 1\u001b[1;36m\u001b[0m\n\u001b[1;33m    d2 = {*: 123.123}\u001b[0m\n\u001b[1;37m           ^\u001b[0m\n\u001b[1;31mSyntaxError\u001b[0m\u001b[1;31m:\u001b[0m invalid syntax\n"
     ]
    }
   ],
   "source": [
    "d2 = {*: 123.123}\n",
    "d2"
   ]
  },
  {
   "cell_type": "code",
   "execution_count": 13,
   "id": "6890dbd6",
   "metadata": {},
   "outputs": [
    {
     "ename": "TypeError",
     "evalue": "unhashable type: 'list'",
     "output_type": "error",
     "traceback": [
      "\u001b[1;31m---------------------------------------------------------------------------\u001b[0m",
      "\u001b[1;31mTypeError\u001b[0m                                 Traceback (most recent call last)",
      "Cell \u001b[1;32mIn[13], line 1\u001b[0m\n\u001b[1;32m----> 1\u001b[0m d3 \u001b[38;5;241m=\u001b[39m {[\u001b[38;5;241m1\u001b[39m,\u001b[38;5;241m2\u001b[39m,\u001b[38;5;241m3\u001b[39m]: \u001b[38;5;241m123.123\u001b[39m}\n\u001b[0;32m      2\u001b[0m d3\n",
      "\u001b[1;31mTypeError\u001b[0m: unhashable type: 'list'"
     ]
    }
   ],
   "source": [
    "d3 = {[1,2,3]: 123.123}\n",
    "d3"
   ]
  },
  {
   "cell_type": "code",
   "execution_count": 14,
   "id": "1c4d8f52",
   "metadata": {},
   "outputs": [
    {
     "data": {
      "text/plain": [
       "{(1, 2, 3): 123.123}"
      ]
     },
     "execution_count": 14,
     "metadata": {},
     "output_type": "execute_result"
    }
   ],
   "source": [
    "d4 = {(1,2,3): 123.123}\n",
    "d4"
   ]
  },
  {
   "cell_type": "code",
   "execution_count": 15,
   "id": "f52c38e0",
   "metadata": {},
   "outputs": [
    {
     "ename": "TypeError",
     "evalue": "unhashable type: 'set'",
     "output_type": "error",
     "traceback": [
      "\u001b[1;31m---------------------------------------------------------------------------\u001b[0m",
      "\u001b[1;31mTypeError\u001b[0m                                 Traceback (most recent call last)",
      "Cell \u001b[1;32mIn[15], line 1\u001b[0m\n\u001b[1;32m----> 1\u001b[0m d5 \u001b[38;5;241m=\u001b[39m {{\u001b[38;5;241m1\u001b[39m,\u001b[38;5;241m2\u001b[39m,\u001b[38;5;241m3\u001b[39m}: \u001b[38;5;241m123.123\u001b[39m}\n\u001b[0;32m      2\u001b[0m d5\n",
      "\u001b[1;31mTypeError\u001b[0m: unhashable type: 'set'"
     ]
    }
   ],
   "source": [
    "d5 = {{1,2,3}: 123.123}\n",
    "d5"
   ]
  },
  {
   "cell_type": "code",
   "execution_count": 16,
   "id": "a41b60d1",
   "metadata": {},
   "outputs": [],
   "source": [
    "# list as key won't work\n",
    "# tuple as key will work\n",
    "# set as key won't work"
   ]
  },
  {
   "cell_type": "code",
   "execution_count": 17,
   "id": "d825c773",
   "metadata": {},
   "outputs": [],
   "source": [
    "d12 = {\"courses\": [\"DS\", \"ML\", \"DL\"]}"
   ]
  },
  {
   "cell_type": "code",
   "execution_count": 18,
   "id": "721544ed",
   "metadata": {},
   "outputs": [
    {
     "data": {
      "text/plain": [
       "{'courses': ['DS', 'ML', 'DL']}"
      ]
     },
     "execution_count": 18,
     "metadata": {},
     "output_type": "execute_result"
    }
   ],
   "source": [
    "d12"
   ]
  },
  {
   "cell_type": "code",
   "execution_count": 19,
   "id": "625976f7",
   "metadata": {},
   "outputs": [],
   "source": [
    "d13 = {\"courses\": (\"DS\", \"ML\", \"DL\")}"
   ]
  },
  {
   "cell_type": "code",
   "execution_count": 20,
   "id": "64c889f6",
   "metadata": {},
   "outputs": [
    {
     "data": {
      "text/plain": [
       "{'courses': ('DS', 'ML', 'DL')}"
      ]
     },
     "execution_count": 20,
     "metadata": {},
     "output_type": "execute_result"
    }
   ],
   "source": [
    "d13"
   ]
  },
  {
   "cell_type": "code",
   "execution_count": 21,
   "id": "a28ef865",
   "metadata": {},
   "outputs": [],
   "source": [
    "d14 = {\"courses\": {\"DS\", \"ML\", \"DL\"}}"
   ]
  },
  {
   "cell_type": "code",
   "execution_count": 22,
   "id": "2bcf0be8",
   "metadata": {},
   "outputs": [
    {
     "data": {
      "text/plain": [
       "{'courses': {'DL', 'DS', 'ML'}}"
      ]
     },
     "execution_count": 22,
     "metadata": {},
     "output_type": "execute_result"
    }
   ],
   "source": [
    "d14"
   ]
  },
  {
   "cell_type": "code",
   "execution_count": 23,
   "id": "e9c31d32",
   "metadata": {},
   "outputs": [],
   "source": [
    "d15 = {\"courses\": [\"DS\", \"ML\", \"DL\"], \"start_date\":(12,15,23), \"mentors\":{\"raja\", 'yoga', 'maha','sel'}}"
   ]
  },
  {
   "cell_type": "code",
   "execution_count": 24,
   "id": "e22064c0",
   "metadata": {},
   "outputs": [
    {
     "data": {
      "text/plain": [
       "{'courses': ['DS', 'ML', 'DL'],\n",
       " 'start_date': (12, 15, 23),\n",
       " 'mentors': {'maha', 'raja', 'sel', 'yoga'}}"
      ]
     },
     "execution_count": 24,
     "metadata": {},
     "output_type": "execute_result"
    }
   ],
   "source": [
    "d15"
   ]
  },
  {
   "cell_type": "code",
   "execution_count": 25,
   "id": "726036c3",
   "metadata": {},
   "outputs": [],
   "source": [
    "d15['timing'] = (8,8,8)"
   ]
  },
  {
   "cell_type": "code",
   "execution_count": 26,
   "id": "b71c476e",
   "metadata": {},
   "outputs": [
    {
     "data": {
      "text/plain": [
       "{'courses': ['DS', 'ML', 'DL'],\n",
       " 'start_date': (12, 15, 23),\n",
       " 'mentors': {'maha', 'raja', 'sel', 'yoga'},\n",
       " 'timing': (8, 8, 8)}"
      ]
     },
     "execution_count": 26,
     "metadata": {},
     "output_type": "execute_result"
    }
   ],
   "source": [
    "d15"
   ]
  },
  {
   "cell_type": "code",
   "execution_count": 27,
   "id": "32a2b2c8",
   "metadata": {},
   "outputs": [
    {
     "data": {
      "text/plain": [
       "['DS', 'ML', 'DL']"
      ]
     },
     "execution_count": 27,
     "metadata": {},
     "output_type": "execute_result"
    }
   ],
   "source": [
    "d15['courses']"
   ]
  },
  {
   "cell_type": "code",
   "execution_count": 28,
   "id": "19becce2",
   "metadata": {},
   "outputs": [
    {
     "data": {
      "text/plain": [
       "list"
      ]
     },
     "execution_count": 28,
     "metadata": {},
     "output_type": "execute_result"
    }
   ],
   "source": [
    "type(d15['courses'])"
   ]
  },
  {
   "cell_type": "code",
   "execution_count": 29,
   "id": "72070595",
   "metadata": {},
   "outputs": [
    {
     "ename": "KeyError",
     "evalue": "'key'",
     "output_type": "error",
     "traceback": [
      "\u001b[1;31m---------------------------------------------------------------------------\u001b[0m",
      "\u001b[1;31mKeyError\u001b[0m                                  Traceback (most recent call last)",
      "Cell \u001b[1;32mIn[29], line 1\u001b[0m\n\u001b[1;32m----> 1\u001b[0m \u001b[43md15\u001b[49m\u001b[43m[\u001b[49m\u001b[38;5;124;43m'\u001b[39;49m\u001b[38;5;124;43mkey\u001b[39;49m\u001b[38;5;124;43m'\u001b[39;49m\u001b[43m]\u001b[49m\n",
      "\u001b[1;31mKeyError\u001b[0m: 'key'"
     ]
    }
   ],
   "source": [
    "d15['key']"
   ]
  },
  {
   "cell_type": "code",
   "execution_count": 30,
   "id": "82075f7f",
   "metadata": {},
   "outputs": [
    {
     "data": {
      "text/plain": [
       "'ds'"
      ]
     },
     "execution_count": 30,
     "metadata": {},
     "output_type": "execute_result"
    }
   ],
   "source": [
    "d15['courses'][0].lower()"
   ]
  },
  {
   "cell_type": "code",
   "execution_count": 31,
   "id": "4f2be8ee",
   "metadata": {},
   "outputs": [
    {
     "data": {
      "text/plain": [
       "{'courses': ['DS', 'ML', 'DL'],\n",
       " 'start_date': (12, 15, 23),\n",
       " 'mentors': {'maha', 'raja', 'sel', 'yoga'},\n",
       " 'timing': (8, 8, 8)}"
      ]
     },
     "execution_count": 31,
     "metadata": {},
     "output_type": "execute_result"
    }
   ],
   "source": [
    "d15"
   ]
  },
  {
   "cell_type": "code",
   "execution_count": 32,
   "id": "7451e17f",
   "metadata": {},
   "outputs": [
    {
     "data": {
      "text/plain": [
       "'DL'"
      ]
     },
     "execution_count": 32,
     "metadata": {},
     "output_type": "execute_result"
    }
   ],
   "source": [
    "d15['courses'][2]"
   ]
  },
  {
   "cell_type": "code",
   "execution_count": 33,
   "id": "8c31d7f1",
   "metadata": {},
   "outputs": [
    {
     "data": {
      "text/plain": [
       "{'courses': ['DS', 'ML', 'DL'],\n",
       " 'start_date': (12, 15, 23),\n",
       " 'mentors': {'maha', 'raja', 'sel', 'yoga'},\n",
       " 'timing': (8, 8, 8)}"
      ]
     },
     "execution_count": 33,
     "metadata": {},
     "output_type": "execute_result"
    }
   ],
   "source": [
    "d15"
   ]
  },
  {
   "cell_type": "code",
   "execution_count": 34,
   "id": "f0c3e0e4",
   "metadata": {},
   "outputs": [],
   "source": [
    "del d15['timing']"
   ]
  },
  {
   "cell_type": "code",
   "execution_count": 35,
   "id": "0384240d",
   "metadata": {},
   "outputs": [
    {
     "data": {
      "text/plain": [
       "{'courses': ['DS', 'ML', 'DL'],\n",
       " 'start_date': (12, 15, 23),\n",
       " 'mentors': {'maha', 'raja', 'sel', 'yoga'}}"
      ]
     },
     "execution_count": 35,
     "metadata": {},
     "output_type": "execute_result"
    }
   ],
   "source": [
    "d15"
   ]
  },
  {
   "cell_type": "code",
   "execution_count": 36,
   "id": "f5edd812",
   "metadata": {},
   "outputs": [],
   "source": [
    "d15.clear()"
   ]
  },
  {
   "cell_type": "code",
   "execution_count": 37,
   "id": "4925b6e2",
   "metadata": {},
   "outputs": [
    {
     "data": {
      "text/plain": [
       "{}"
      ]
     },
     "execution_count": 37,
     "metadata": {},
     "output_type": "execute_result"
    }
   ],
   "source": [
    "d15"
   ]
  },
  {
   "cell_type": "code",
   "execution_count": 38,
   "id": "50040b6e",
   "metadata": {},
   "outputs": [],
   "source": [
    "d16 = {\"courses\": [\"DS\", \"ML\", \"DL\"], \"start_date\":(12,15,23), \"mentors\":{\"raja\", 'yoga', 'maha','sel'}}"
   ]
  },
  {
   "cell_type": "code",
   "execution_count": 39,
   "id": "8f0e1ebc",
   "metadata": {},
   "outputs": [
    {
     "data": {
      "text/plain": [
       "3"
      ]
     },
     "execution_count": 39,
     "metadata": {},
     "output_type": "execute_result"
    }
   ],
   "source": [
    "len(d16)"
   ]
  },
  {
   "cell_type": "code",
   "execution_count": 40,
   "id": "c92a5aef",
   "metadata": {},
   "outputs": [
    {
     "data": {
      "text/plain": [
       "dict_values([['DS', 'ML', 'DL'], (12, 15, 23), {'maha', 'sel', 'yoga', 'raja'}])"
      ]
     },
     "execution_count": 40,
     "metadata": {},
     "output_type": "execute_result"
    }
   ],
   "source": [
    "d16.values()"
   ]
  },
  {
   "cell_type": "code",
   "execution_count": 41,
   "id": "4048dae8",
   "metadata": {},
   "outputs": [
    {
     "data": {
      "text/plain": [
       "[['DS', 'ML', 'DL'], (12, 15, 23), {'maha', 'raja', 'sel', 'yoga'}]"
      ]
     },
     "execution_count": 41,
     "metadata": {},
     "output_type": "execute_result"
    }
   ],
   "source": [
    "list(d16.values())"
   ]
  },
  {
   "cell_type": "code",
   "execution_count": 42,
   "id": "f24c707c",
   "metadata": {},
   "outputs": [
    {
     "data": {
      "text/plain": [
       "[('courses', ['DS', 'ML', 'DL']),\n",
       " ('start_date', (12, 15, 23)),\n",
       " ('mentors', {'maha', 'raja', 'sel', 'yoga'})]"
      ]
     },
     "execution_count": 42,
     "metadata": {},
     "output_type": "execute_result"
    }
   ],
   "source": [
    "list(d16.items())"
   ]
  },
  {
   "cell_type": "code",
   "execution_count": 43,
   "id": "1331ee96",
   "metadata": {},
   "outputs": [
    {
     "data": {
      "text/plain": [
       "{'courses': ['DS', 'ML', 'DL'],\n",
       " 'start_date': (12, 15, 23),\n",
       " 'mentors': {'maha', 'raja', 'sel', 'yoga'}}"
      ]
     },
     "execution_count": 43,
     "metadata": {},
     "output_type": "execute_result"
    }
   ],
   "source": [
    "# deep copy (creates new memory)\n",
    "d17 = d16.copy()\n",
    "d17"
   ]
  },
  {
   "cell_type": "code",
   "execution_count": 44,
   "id": "956b9d30",
   "metadata": {},
   "outputs": [
    {
     "data": {
      "text/plain": [
       "{'courses': ['DS', 'ML', 'DL'],\n",
       " 'start_date': (12, 15, 23),\n",
       " 'mentors': {'maha', 'raja', 'sel', 'yoga'}}"
      ]
     },
     "execution_count": 44,
     "metadata": {},
     "output_type": "execute_result"
    }
   ],
   "source": [
    "# shallow copy (it just take reference not creating new memory)\n",
    "d18 = d16\n",
    "d18"
   ]
  },
  {
   "cell_type": "code",
   "execution_count": 45,
   "id": "4d1f57e6",
   "metadata": {},
   "outputs": [
    {
     "data": {
      "text/plain": [
       "{'courses': ['DS', 'ML', 'DL'], 'start_date': (12, 15, 23)}"
      ]
     },
     "execution_count": 45,
     "metadata": {},
     "output_type": "execute_result"
    }
   ],
   "source": [
    "del d16['mentors']\n",
    "d16"
   ]
  },
  {
   "cell_type": "code",
   "execution_count": 46,
   "id": "0d28a94a",
   "metadata": {},
   "outputs": [
    {
     "data": {
      "text/plain": [
       "{'courses': ['DS', 'ML', 'DL'], 'start_date': (12, 15, 23)}"
      ]
     },
     "execution_count": 46,
     "metadata": {},
     "output_type": "execute_result"
    }
   ],
   "source": [
    "d18"
   ]
  },
  {
   "cell_type": "code",
   "execution_count": 47,
   "id": "675d8d5d",
   "metadata": {},
   "outputs": [
    {
     "data": {
      "text/plain": [
       "{1: ('raja', 'yoga'), 2: ('raja', 'yoga')}"
      ]
     },
     "execution_count": 47,
     "metadata": {},
     "output_type": "execute_result"
    }
   ],
   "source": [
    "d.fromkeys((1,2), ('raja','yoga'))"
   ]
  },
  {
   "cell_type": "code",
   "execution_count": 48,
   "id": "9869d2ad",
   "metadata": {},
   "outputs": [
    {
     "data": {
      "text/plain": [
       "{'key1': 'raja', 'key2': 'yoga'}"
      ]
     },
     "execution_count": 48,
     "metadata": {},
     "output_type": "execute_result"
    }
   ],
   "source": [
    "d1"
   ]
  },
  {
   "cell_type": "code",
   "execution_count": 49,
   "id": "7dee0d30",
   "metadata": {},
   "outputs": [
    {
     "data": {
      "text/plain": [
       "{True: 123.123}"
      ]
     },
     "execution_count": 49,
     "metadata": {},
     "output_type": "execute_result"
    }
   ],
   "source": [
    "d2"
   ]
  },
  {
   "cell_type": "code",
   "execution_count": 50,
   "id": "ed6d0aea",
   "metadata": {},
   "outputs": [
    {
     "data": {
      "text/plain": [
       "({'key1': 'raja', 'key2': 'yoga'}, {True: 123.123})"
      ]
     },
     "execution_count": 50,
     "metadata": {},
     "output_type": "execute_result"
    }
   ],
   "source": [
    "(d1,d2)"
   ]
  },
  {
   "cell_type": "code",
   "execution_count": 51,
   "id": "6f66bbf2",
   "metadata": {},
   "outputs": [
    {
     "data": {
      "text/plain": [
       "{True: 123.123}"
      ]
     },
     "execution_count": 51,
     "metadata": {},
     "output_type": "execute_result"
    }
   ],
   "source": [
    "d2"
   ]
  },
  {
   "cell_type": "code",
   "execution_count": 52,
   "id": "c94bcf37",
   "metadata": {},
   "outputs": [],
   "source": [
    "d2.get('key')"
   ]
  },
  {
   "cell_type": "code",
   "execution_count": 53,
   "id": "b47f87c9",
   "metadata": {},
   "outputs": [],
   "source": [
    "d2.get('True')"
   ]
  },
  {
   "cell_type": "markdown",
   "id": "d028fed7",
   "metadata": {},
   "source": [
    "# Dictionary Comprehension"
   ]
  },
  {
   "cell_type": "code",
   "execution_count": 54,
   "id": "b6449ad0",
   "metadata": {},
   "outputs": [
    {
     "data": {
      "text/plain": [
       "{1: 1, 2: 4, 3: 9, 4: 16, 5: 25, 6: 36, 7: 49, 8: 64, 9: 81, 10: 100}"
      ]
     },
     "execution_count": 54,
     "metadata": {},
     "output_type": "execute_result"
    }
   ],
   "source": [
    "{i : i**2 for i in range(1,11)}"
   ]
  },
  {
   "cell_type": "code",
   "execution_count": 57,
   "id": "52329d3f",
   "metadata": {},
   "outputs": [
    {
     "data": {
      "text/plain": [
       "{1: 0.0,\n",
       " 2: 0.3010299956639812,\n",
       " 3: 0.47712125471966244,\n",
       " 4: 0.6020599913279624,\n",
       " 5: 0.6989700043360189,\n",
       " 6: 0.7781512503836436,\n",
       " 7: 0.8450980400142568,\n",
       " 8: 0.9030899869919435,\n",
       " 9: 0.9542425094393249,\n",
       " 10: 1.0}"
      ]
     },
     "execution_count": 57,
     "metadata": {},
     "output_type": "execute_result"
    }
   ],
   "source": [
    "import math\n",
    "{i: math.log10(i) for i in range(1,11)}"
   ]
  },
  {
   "cell_type": "code",
   "execution_count": 61,
   "id": "9380b512",
   "metadata": {},
   "outputs": [
    {
     "data": {
      "text/plain": [
       "{'courses': ['DS', 'ML', 'DL'], 'start_date': (12, 15, 23)}"
      ]
     },
     "execution_count": 61,
     "metadata": {},
     "output_type": "execute_result"
    }
   ],
   "source": [
    "d16"
   ]
  },
  {
   "cell_type": "code",
   "execution_count": 62,
   "id": "85580340",
   "metadata": {},
   "outputs": [
    {
     "data": {
      "text/plain": [
       "True"
      ]
     },
     "execution_count": 62,
     "metadata": {},
     "output_type": "execute_result"
    }
   ],
   "source": [
    "'courses' in d16"
   ]
  },
  {
   "cell_type": "code",
   "execution_count": 63,
   "id": "29b67454",
   "metadata": {},
   "outputs": [],
   "source": [
    "import math\n",
    "d21 = {i: math.log10(i) for i in range(1,11)}"
   ]
  },
  {
   "cell_type": "code",
   "execution_count": 64,
   "id": "38c257a4",
   "metadata": {},
   "outputs": [
    {
     "data": {
      "text/plain": [
       "{1: 0.0,\n",
       " 2: 0.3010299956639812,\n",
       " 3: 0.47712125471966244,\n",
       " 4: 0.6020599913279624,\n",
       " 5: 0.6989700043360189,\n",
       " 6: 0.7781512503836436,\n",
       " 7: 0.8450980400142568,\n",
       " 8: 0.9030899869919435,\n",
       " 9: 0.9542425094393249,\n",
       " 10: 1.0}"
      ]
     },
     "execution_count": 64,
     "metadata": {},
     "output_type": "execute_result"
    }
   ],
   "source": [
    "d21"
   ]
  },
  {
   "cell_type": "code",
   "execution_count": 72,
   "id": "e6e93d00",
   "metadata": {},
   "outputs": [
    {
     "name": "stdout",
     "output_type": "stream",
     "text": [
      "0.3010299956639812\n",
      "0.6020599913279624\n",
      "0.7781512503836436\n",
      "0.9030899869919435\n",
      "1.0\n"
     ]
    }
   ],
   "source": [
    "for i in d21.keys():\n",
    "    if i%2==0:\n",
    "        print(d21[i])"
   ]
  },
  {
   "cell_type": "code",
   "execution_count": null,
   "id": "5dbf0c73",
   "metadata": {},
   "outputs": [],
   "source": []
  }
 ],
 "metadata": {
  "kernelspec": {
   "display_name": "Python 3 (ipykernel)",
   "language": "python",
   "name": "python3"
  },
  "language_info": {
   "codemirror_mode": {
    "name": "ipython",
    "version": 3
   },
   "file_extension": ".py",
   "mimetype": "text/x-python",
   "name": "python",
   "nbconvert_exporter": "python",
   "pygments_lexer": "ipython3",
   "version": "3.10.13"
  }
 },
 "nbformat": 4,
 "nbformat_minor": 5
}
