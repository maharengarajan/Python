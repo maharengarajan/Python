{
 "cells": [
  {
   "cell_type": "markdown",
   "id": "9f56bac8",
   "metadata": {},
   "source": [
    "1.Explain the difference between a list and a tuple in Python."
   ]
  },
  {
   "cell_type": "code",
   "execution_count": null,
   "id": "cf699fae",
   "metadata": {},
   "outputs": [],
   "source": []
  },
  {
   "cell_type": "markdown",
   "id": "10f7318a",
   "metadata": {},
   "source": [
    "2. What is the result of the expression '3 * 2 + 8 // 4' in Python?"
   ]
  },
  {
   "cell_type": "code",
   "execution_count": 1,
   "id": "3cf8e89f",
   "metadata": {},
   "outputs": [
    {
     "data": {
      "text/plain": [
       "8"
      ]
     },
     "execution_count": 1,
     "metadata": {},
     "output_type": "execute_result"
    }
   ],
   "source": [
    "3 * 2 + 8 // 4"
   ]
  },
  {
   "cell_type": "markdown",
   "id": "573ade54",
   "metadata": {},
   "source": [
    "3. How can you check if a string contains only numeric characters in Python?"
   ]
  },
  {
   "cell_type": "code",
   "execution_count": 5,
   "id": "97c95a19",
   "metadata": {},
   "outputs": [
    {
     "data": {
      "text/plain": [
       "True"
      ]
     },
     "execution_count": 5,
     "metadata": {},
     "output_type": "execute_result"
    }
   ],
   "source": [
    "s = \"123\"\n",
    "s.isdigit()"
   ]
  },
  {
   "cell_type": "markdown",
   "id": "6582f838",
   "metadata": {},
   "source": [
    "4. Write a Python code to count the frequency of each character in a given string."
   ]
  },
  {
   "cell_type": "code",
   "execution_count": 6,
   "id": "cc0e6ba7",
   "metadata": {},
   "outputs": [
    {
     "name": "stdout",
     "output_type": "stream",
     "text": [
      "Character 'h' occurs 1 times.\n",
      "Character 'e' occurs 1 times.\n",
      "Character 'l' occurs 3 times.\n",
      "Character 'o' occurs 2 times.\n",
      "Character ' ' occurs 1 times.\n",
      "Character 'w' occurs 1 times.\n",
      "Character 'r' occurs 1 times.\n",
      "Character 'd' occurs 1 times.\n"
     ]
    }
   ],
   "source": [
    "def count_char_frequency(input_string):\n",
    "    char_frequency = {}\n",
    "\n",
    "    for char in input_string:\n",
    "        if char in char_frequency:\n",
    "            char_frequency[char] += 1\n",
    "        else:\n",
    "            char_frequency[char] = 1\n",
    "\n",
    "    return char_frequency\n",
    "\n",
    "# Example usage:\n",
    "input_str = \"hello world\"\n",
    "result = count_char_frequency(input_str)\n",
    "\n",
    "for char, frequency in result.items():\n",
    "    print(f\"Character '{char}' occurs {frequency} times.\")\n"
   ]
  },
  {
   "cell_type": "code",
   "execution_count": 44,
   "id": "6a277f15",
   "metadata": {},
   "outputs": [
    {
     "name": "stdout",
     "output_type": "stream",
     "text": [
      "pls enter any stringsuresh\n",
      "{'s': 2, 'u': 1, 'r': 1, 'e': 1, 'h': 1}\n"
     ]
    }
   ],
   "source": [
    "s = input('pls enter any string')\n",
    "d = {}\n",
    "for i in s:\n",
    "    if i in d:\n",
    "        d[i] += 1 # If the character is already a key in the dictionary, its count is incremented.\n",
    "    else:\n",
    "        d[i] = 1  # a new key is created with an initial count of 1\n",
    "print(d)"
   ]
  },
  {
   "cell_type": "markdown",
   "id": "12bbb605",
   "metadata": {},
   "source": [
    "5. What is the difference between 'add' and 'update' methods of sets in Python?"
   ]
  },
  {
   "cell_type": "code",
   "execution_count": 28,
   "id": "d844f9ec",
   "metadata": {},
   "outputs": [],
   "source": [
    "s = {1,2,3,4}"
   ]
  },
  {
   "cell_type": "code",
   "execution_count": 29,
   "id": "4c24a78b",
   "metadata": {},
   "outputs": [],
   "source": [
    "s.add(5)"
   ]
  },
  {
   "cell_type": "code",
   "execution_count": 30,
   "id": "fa7d7981",
   "metadata": {},
   "outputs": [
    {
     "data": {
      "text/plain": [
       "{1, 2, 3, 4, 5}"
      ]
     },
     "execution_count": 30,
     "metadata": {},
     "output_type": "execute_result"
    }
   ],
   "source": [
    "s"
   ]
  },
  {
   "cell_type": "code",
   "execution_count": 32,
   "id": "5151723f",
   "metadata": {},
   "outputs": [],
   "source": [
    "s.update({9,10})"
   ]
  },
  {
   "cell_type": "code",
   "execution_count": 33,
   "id": "367fec51",
   "metadata": {},
   "outputs": [
    {
     "data": {
      "text/plain": [
       "{1, 2, 3, 4, 5, 9, 10}"
      ]
     },
     "execution_count": 33,
     "metadata": {},
     "output_type": "execute_result"
    }
   ],
   "source": [
    "s"
   ]
  },
  {
   "cell_type": "markdown",
   "id": "682ca765",
   "metadata": {},
   "source": [
    "6. Explain the concept of dictionary comprehension in Python."
   ]
  },
  {
   "cell_type": "code",
   "execution_count": 34,
   "id": "9c27238c",
   "metadata": {},
   "outputs": [
    {
     "data": {
      "text/plain": [
       "{1: 3, 2: 4, 3: 5, 4: 6}"
      ]
     },
     "execution_count": 34,
     "metadata": {},
     "output_type": "execute_result"
    }
   ],
   "source": [
    "{i: i+2 for i in range(1,5)}"
   ]
  },
  {
   "cell_type": "raw",
   "id": "43eee78d",
   "metadata": {},
   "source": [
    "Dictionary comprehension is a concise and expressive way to create dictionaries in Python. It allows you to construct dictionaries using a single line of code, similar to list comprehensions"
   ]
  },
  {
   "cell_type": "markdown",
   "id": "14e3b082",
   "metadata": {},
   "source": [
    "7. Write a Python function to reverse a given tuple."
   ]
  },
  {
   "cell_type": "code",
   "execution_count": 35,
   "id": "e456cb7e",
   "metadata": {},
   "outputs": [
    {
     "name": "stdout",
     "output_type": "stream",
     "text": [
      "(4, 3, 2, 1)\n"
     ]
    }
   ],
   "source": [
    "t = (1,2,3,4)\n",
    "reverse = t[::-1]\n",
    "\n",
    "print(reverse)"
   ]
  },
  {
   "cell_type": "code",
   "execution_count": 39,
   "id": "fe510081",
   "metadata": {},
   "outputs": [
    {
     "data": {
      "text/plain": [
       "(4, 3, 2, 1)"
      ]
     },
     "execution_count": 39,
     "metadata": {},
     "output_type": "execute_result"
    }
   ],
   "source": [
    "tuple(reversed(t))"
   ]
  },
  {
   "cell_type": "code",
   "execution_count": 38,
   "id": "eebe6095",
   "metadata": {},
   "outputs": [
    {
     "data": {
      "text/plain": [
       "(1, 2, 3, 4)"
      ]
     },
     "execution_count": 38,
     "metadata": {},
     "output_type": "execute_result"
    }
   ],
   "source": [
    "t"
   ]
  },
  {
   "cell_type": "markdown",
   "id": "e226baac",
   "metadata": {},
   "source": [
    "8. What is the output of the following code? my_dict = {'a': 1, 'b': 2, 'c': 3} print(max(my_dict))"
   ]
  },
  {
   "cell_type": "code",
   "execution_count": 40,
   "id": "32f0988e",
   "metadata": {},
   "outputs": [
    {
     "name": "stdout",
     "output_type": "stream",
     "text": [
      "c\n"
     ]
    }
   ],
   "source": [
    "my_dict = {'a': 1, 'b': 2, 'c': 3}\n",
    "print(max(my_dict))"
   ]
  },
  {
   "cell_type": "code",
   "execution_count": 43,
   "id": "da266e54",
   "metadata": {},
   "outputs": [
    {
     "name": "stdout",
     "output_type": "stream",
     "text": [
      "d\n"
     ]
    }
   ],
   "source": [
    "my_dict = {'a': 10, 'b': 5, 'c': 2, 'd':0}\n",
    "print(max(my_dict))"
   ]
  },
  {
   "cell_type": "markdown",
   "id": "092493da",
   "metadata": {},
   "source": [
    "9. Explain the operator precedence in Python with examples."
   ]
  },
  {
   "cell_type": "code",
   "execution_count": 45,
   "id": "0043db5b",
   "metadata": {},
   "outputs": [
    {
     "name": "stdout",
     "output_type": "stream",
     "text": [
      "14\n"
     ]
    }
   ],
   "source": [
    "# Operator precedence in Python determines the order in which different operators \n",
    "# are evaluated when they appear together in an expression. \n",
    "# It helps to clarify the order of operations, avoiding ambiguity in expressions\n",
    "\n",
    "\n",
    "# Example :\n",
    "result = 2 + 3 * 4\n",
    "\n",
    "print(result) # Output: 14\n",
    "\n",
    "# In this case, multiplication (*) has higher precedence than addition (+)."
   ]
  },
  {
   "cell_type": "code",
   "execution_count": null,
   "id": "afc6d187",
   "metadata": {},
   "outputs": [],
   "source": []
  },
  {
   "cell_type": "code",
   "execution_count": 46,
   "id": "67ecea10",
   "metadata": {},
   "outputs": [
    {
     "data": {
      "text/plain": [
       "'rajayoga'"
      ]
     },
     "execution_count": 46,
     "metadata": {},
     "output_type": "execute_result"
    }
   ],
   "source": [
    "concatenated_string = ''.join([\"raja\", 'yoga'])\n",
    "concatenated_string"
   ]
  },
  {
   "cell_type": "code",
   "execution_count": 58,
   "id": "975eaf5b",
   "metadata": {},
   "outputs": [],
   "source": [
    "def concate_str():\n",
    "    str1 = input(\"pls enter any string\")\n",
    "    str2 = input(\"pls enter any string\")\n",
    "    output = \"\".join([str1, str2])\n",
    "    return output"
   ]
  },
  {
   "cell_type": "code",
   "execution_count": 59,
   "id": "8e689803",
   "metadata": {},
   "outputs": [
    {
     "name": "stdout",
     "output_type": "stream",
     "text": [
      "pls enter any stringraa\n",
      "pls enter any stringyoga\n"
     ]
    },
    {
     "data": {
      "text/plain": [
       "'raayoga'"
      ]
     },
     "execution_count": 59,
     "metadata": {},
     "output_type": "execute_result"
    }
   ],
   "source": [
    "concate_str()"
   ]
  },
  {
   "cell_type": "markdown",
   "id": "bbb8a99d",
   "metadata": {},
   "source": [
    "11. How can you convert a list to a tuple in Python?"
   ]
  },
  {
   "cell_type": "code",
   "execution_count": 60,
   "id": "02472274",
   "metadata": {},
   "outputs": [
    {
     "name": "stdout",
     "output_type": "stream",
     "text": [
      "(1, 2, 3)\n"
     ]
    }
   ],
   "source": [
    "l = [1,2,3]\n",
    "t = tuple(l)\n",
    "print(t)"
   ]
  },
  {
   "cell_type": "markdown",
   "id": "44c6a2cb",
   "metadata": {},
   "source": [
    "12. What will be the output of the code snippet? my_set = {1, 2, 3} my_set.add(4) print(my_set)"
   ]
  },
  {
   "cell_type": "code",
   "execution_count": 61,
   "id": "b7749f96",
   "metadata": {},
   "outputs": [
    {
     "name": "stdout",
     "output_type": "stream",
     "text": [
      "{1, 2, 3, 4}\n"
     ]
    }
   ],
   "source": [
    "my_set = {1, 2, 3}\n",
    "my_set.add(4) \n",
    "print(my_set)"
   ]
  },
  {
   "cell_type": "markdown",
   "id": "0dbd0fb1",
   "metadata": {},
   "source": [
    "13. Explain the difference between 'discard' and 'remove' methods of sets in Python."
   ]
  },
  {
   "cell_type": "code",
   "execution_count": 69,
   "id": "d8be22a0",
   "metadata": {},
   "outputs": [],
   "source": [
    "my_set = {1, 2, 3, 4, 5}"
   ]
  },
  {
   "cell_type": "code",
   "execution_count": 71,
   "id": "e1b87a8a",
   "metadata": {},
   "outputs": [
    {
     "ename": "KeyError",
     "evalue": "6",
     "output_type": "error",
     "traceback": [
      "\u001b[1;31m---------------------------------------------------------------------------\u001b[0m",
      "\u001b[1;31mKeyError\u001b[0m                                  Traceback (most recent call last)",
      "Cell \u001b[1;32mIn[71], line 1\u001b[0m\n\u001b[1;32m----> 1\u001b[0m \u001b[43mmy_set\u001b[49m\u001b[38;5;241;43m.\u001b[39;49m\u001b[43mremove\u001b[49m\u001b[43m(\u001b[49m\u001b[38;5;241;43m6\u001b[39;49m\u001b[43m)\u001b[49m\n",
      "\u001b[1;31mKeyError\u001b[0m: 6"
     ]
    }
   ],
   "source": [
    "my_set.remove(6)"
   ]
  },
  {
   "cell_type": "code",
   "execution_count": 72,
   "id": "19573c24",
   "metadata": {},
   "outputs": [],
   "source": [
    "my_set.discard(6)"
   ]
  },
  {
   "cell_type": "code",
   "execution_count": null,
   "id": "060e6fc2",
   "metadata": {},
   "outputs": [],
   "source": []
  }
 ],
 "metadata": {
  "kernelspec": {
   "display_name": "Python 3 (ipykernel)",
   "language": "python",
   "name": "python3"
  },
  "language_info": {
   "codemirror_mode": {
    "name": "ipython",
    "version": 3
   },
   "file_extension": ".py",
   "mimetype": "text/x-python",
   "name": "python",
   "nbconvert_exporter": "python",
   "pygments_lexer": "ipython3",
   "version": "3.10.13"
  }
 },
 "nbformat": 4,
 "nbformat_minor": 5
}
