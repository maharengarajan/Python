{
 "cells": [
  {
   "cell_type": "code",
   "execution_count": 1,
   "id": "39cfbd06",
   "metadata": {},
   "outputs": [
    {
     "data": {
      "text/plain": [
       "16"
      ]
     },
     "execution_count": 1,
     "metadata": {},
     "output_type": "execute_result"
    }
   ],
   "source": [
    "4 * 3 + 2 ** 2"
   ]
  },
  {
   "cell_type": "code",
   "execution_count": null,
   "id": "432fa320",
   "metadata": {},
   "outputs": [],
   "source": [
    "BODMAS"
   ]
  },
  {
   "cell_type": "code",
   "execution_count": 2,
   "id": "fb7da4e1",
   "metadata": {},
   "outputs": [],
   "source": [
    "my_set = {1, 2, 3, 4, 5} \n",
    "my_set.add(6)"
   ]
  },
  {
   "cell_type": "code",
   "execution_count": 3,
   "id": "e7c971f6",
   "metadata": {},
   "outputs": [
    {
     "data": {
      "text/plain": [
       "{1, 2, 3, 4, 5, 6}"
      ]
     },
     "execution_count": 3,
     "metadata": {},
     "output_type": "execute_result"
    }
   ],
   "source": [
    "my_set"
   ]
  },
  {
   "cell_type": "code",
   "execution_count": 6,
   "id": "a41d3259",
   "metadata": {},
   "outputs": [],
   "source": [
    "my_set = {1, 2, 3, 4, 5} \n",
    "my_set.add(1.5)"
   ]
  },
  {
   "cell_type": "code",
   "execution_count": 7,
   "id": "6edad646",
   "metadata": {},
   "outputs": [
    {
     "data": {
      "text/plain": [
       "{1, 1.5, 2, 3, 4, 5}"
      ]
     },
     "execution_count": 7,
     "metadata": {},
     "output_type": "execute_result"
    }
   ],
   "source": [
    "my_set"
   ]
  },
  {
   "cell_type": "raw",
   "id": "92e098ce",
   "metadata": {},
   "source": [
    "In Python, the 'add()' method is used to add a single element to a set. When the code 'my_set.add(6)' is executed, the element 6 will be added to the set 'my_set'."
   ]
  },
  {
   "cell_type": "code",
   "execution_count": null,
   "id": "05fb8bee",
   "metadata": {},
   "outputs": [],
   "source": []
  }
 ],
 "metadata": {
  "kernelspec": {
   "display_name": "Python 3 (ipykernel)",
   "language": "python",
   "name": "python3"
  },
  "language_info": {
   "codemirror_mode": {
    "name": "ipython",
    "version": 3
   },
   "file_extension": ".py",
   "mimetype": "text/x-python",
   "name": "python",
   "nbconvert_exporter": "python",
   "pygments_lexer": "ipython3",
   "version": "3.10.13"
  }
 },
 "nbformat": 4,
 "nbformat_minor": 5
}
