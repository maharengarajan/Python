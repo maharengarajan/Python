{
 "cells": [
  {
   "cell_type": "markdown",
   "id": "01e0c627",
   "metadata": {},
   "source": [
    "# use always a specific exception"
   ]
  },
  {
   "cell_type": "code",
   "execution_count": 1,
   "id": "d1e0774e",
   "metadata": {},
   "outputs": [
    {
     "name": "stdout",
     "output_type": "stream",
     "text": [
      "division by zero\n"
     ]
    }
   ],
   "source": [
    "try:\n",
    "    a = 5/0\n",
    "except Exception as e:\n",
    "    print(e)"
   ]
  },
  {
   "cell_type": "code",
   "execution_count": 2,
   "id": "9ce77dc3",
   "metadata": {},
   "outputs": [
    {
     "name": "stdout",
     "output_type": "stream",
     "text": [
      "division by zero\n"
     ]
    }
   ],
   "source": [
    "# use always a specific exception\n",
    "try:\n",
    "    a = 5/0\n",
    "except ZeroDivisionError as e:\n",
    "    print(e)"
   ]
  },
  {
   "cell_type": "markdown",
   "id": "37beaa87",
   "metadata": {},
   "source": [
    "# always print meaningfull error message"
   ]
  },
  {
   "cell_type": "code",
   "execution_count": 6,
   "id": "b5eac68c",
   "metadata": {},
   "outputs": [
    {
     "name": "stdout",
     "output_type": "stream",
     "text": [
      "This is zero div error i am handling division by zero\n"
     ]
    }
   ],
   "source": [
    "try:\n",
    "    a = 5/0\n",
    "except ZeroDivisionError as e:\n",
    "    print(\"This is zero div error i am handling\" , e)"
   ]
  },
  {
   "cell_type": "markdown",
   "id": "95c05b60",
   "metadata": {},
   "source": [
    "# always a valid log"
   ]
  },
  {
   "cell_type": "code",
   "execution_count": 9,
   "id": "62ebec89",
   "metadata": {},
   "outputs": [],
   "source": [
    "import logging\n",
    "logging.basicConfig(filename='error.log', level=logging.INFO)\n",
    "try:\n",
    "    a = 5/0\n",
    "except ZeroDivisionError as e:\n",
    "    logging.info(f\"this is zero division error i am handling, and my error is {e}\")"
   ]
  },
  {
   "cell_type": "markdown",
   "id": "766c2b9a",
   "metadata": {},
   "source": [
    "# always try to avoid multiple exception handling"
   ]
  },
  {
   "cell_type": "code",
   "execution_count": 10,
   "id": "cce29d19",
   "metadata": {},
   "outputs": [],
   "source": [
    "try:\n",
    "    a = 5/0\n",
    "except FileExistsError as e:\n",
    "    logging.info(f\"this is file exists error error i am handling, and my error is {e}\")\n",
    "except AttributeError as e:\n",
    "    logging.info(f\"this is attribute error i am handling, and my error is {e}\")\n",
    "except ZeroDivisionError as e:\n",
    "    logging.info(f\"this is zero division error i am handling, and my error is {e}\")"
   ]
  },
  {
   "cell_type": "markdown",
   "id": "27e9d59d",
   "metadata": {},
   "source": [
    "# prepare proper documentation"
   ]
  },
  {
   "cell_type": "markdown",
   "id": "ede737c1",
   "metadata": {},
   "source": [
    "# cleanup all the resource, it will utilize effective resource only"
   ]
  },
  {
   "cell_type": "code",
   "execution_count": 11,
   "id": "4dd1406f",
   "metadata": {},
   "outputs": [],
   "source": [
    "try:\n",
    "    with open('test2.txt', 'w') as f:\n",
    "        f.write('hi')\n",
    "except FileExistsError as e:\n",
    "    logging.info(f\"this is file exists error i am handling, and my error is {e}\")\n",
    "finally:\n",
    "    f.close()"
   ]
  },
  {
   "cell_type": "code",
   "execution_count": null,
   "id": "47cb8a80",
   "metadata": {},
   "outputs": [],
   "source": []
  }
 ],
 "metadata": {
  "kernelspec": {
   "display_name": "Python 3 (ipykernel)",
   "language": "python",
   "name": "python3"
  },
  "language_info": {
   "codemirror_mode": {
    "name": "ipython",
    "version": 3
   },
   "file_extension": ".py",
   "mimetype": "text/x-python",
   "name": "python",
   "nbconvert_exporter": "python",
   "pygments_lexer": "ipython3",
   "version": "3.10.13"
  }
 },
 "nbformat": 4,
 "nbformat_minor": 5
}
