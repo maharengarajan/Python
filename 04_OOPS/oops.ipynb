{
 "cells": [
  {
   "cell_type": "code",
   "execution_count": 1,
   "id": "6bcde888",
   "metadata": {},
   "outputs": [],
   "source": [
    "l = 1"
   ]
  },
  {
   "cell_type": "code",
   "execution_count": 2,
   "id": "8f0a5ab7",
   "metadata": {},
   "outputs": [
    {
     "name": "stdout",
     "output_type": "stream",
     "text": [
      "<class 'int'>\n"
     ]
    }
   ],
   "source": [
    "print(type(l))"
   ]
  },
  {
   "cell_type": "code",
   "execution_count": 3,
   "id": "791a3c93",
   "metadata": {},
   "outputs": [],
   "source": [
    "class test:\n",
    "    pass"
   ]
  },
  {
   "cell_type": "code",
   "execution_count": 4,
   "id": "ee8ccc2b",
   "metadata": {},
   "outputs": [],
   "source": [
    "a = test()"
   ]
  },
  {
   "cell_type": "code",
   "execution_count": 5,
   "id": "f3e7e969",
   "metadata": {},
   "outputs": [
    {
     "name": "stdout",
     "output_type": "stream",
     "text": [
      "<class '__main__.test'>\n"
     ]
    }
   ],
   "source": [
    "print(type(a))"
   ]
  },
  {
   "cell_type": "code",
   "execution_count": 6,
   "id": "a04cdf11",
   "metadata": {},
   "outputs": [],
   "source": [
    "class pwskills:\n",
    "    \n",
    "    def welcome_greet():\n",
    "        print('welcome to pwsills')"
   ]
  },
  {
   "cell_type": "code",
   "execution_count": 7,
   "id": "97ff70a7",
   "metadata": {},
   "outputs": [],
   "source": [
    "raja = pwskills()"
   ]
  },
  {
   "cell_type": "code",
   "execution_count": 8,
   "id": "39c02fb6",
   "metadata": {},
   "outputs": [
    {
     "ename": "TypeError",
     "evalue": "pwskills.welcome_greet() takes 0 positional arguments but 1 was given",
     "output_type": "error",
     "traceback": [
      "\u001b[1;31m---------------------------------------------------------------------------\u001b[0m",
      "\u001b[1;31mTypeError\u001b[0m                                 Traceback (most recent call last)",
      "Cell \u001b[1;32mIn[8], line 1\u001b[0m\n\u001b[1;32m----> 1\u001b[0m \u001b[43mraja\u001b[49m\u001b[38;5;241;43m.\u001b[39;49m\u001b[43mwelcome_greet\u001b[49m\u001b[43m(\u001b[49m\u001b[43m)\u001b[49m\n",
      "\u001b[1;31mTypeError\u001b[0m: pwskills.welcome_greet() takes 0 positional arguments but 1 was given"
     ]
    }
   ],
   "source": [
    "raja.welcome_greet()"
   ]
  },
  {
   "cell_type": "code",
   "execution_count": 9,
   "id": "081f161b",
   "metadata": {},
   "outputs": [],
   "source": [
    "class pwskills:\n",
    "    \n",
    "    def welcome_greet(self):\n",
    "        print('welcome to pwsills')"
   ]
  },
  {
   "cell_type": "code",
   "execution_count": 10,
   "id": "0be92848",
   "metadata": {},
   "outputs": [],
   "source": [
    "raja = pwskills()"
   ]
  },
  {
   "cell_type": "code",
   "execution_count": 11,
   "id": "a565babf",
   "metadata": {},
   "outputs": [
    {
     "name": "stdout",
     "output_type": "stream",
     "text": [
      "welcome to pwsills\n"
     ]
    }
   ],
   "source": [
    "raja.welcome_greet()"
   ]
  },
  {
   "cell_type": "code",
   "execution_count": 12,
   "id": "139ef89f",
   "metadata": {},
   "outputs": [],
   "source": [
    "yoga = pwskills()"
   ]
  },
  {
   "cell_type": "code",
   "execution_count": 13,
   "id": "88fbb0f1",
   "metadata": {},
   "outputs": [
    {
     "name": "stdout",
     "output_type": "stream",
     "text": [
      "welcome to pwsills\n"
     ]
    }
   ],
   "source": [
    "yoga.welcome_greet()"
   ]
  },
  {
   "cell_type": "code",
   "execution_count": 14,
   "id": "171941a6",
   "metadata": {},
   "outputs": [],
   "source": [
    "class pwskills:\n",
    "    \n",
    "    def __init__(self, phone, email, id):\n",
    "        self.phone = phone\n",
    "        self.email = email\n",
    "        self.id = id\n",
    "        \n",
    "    def student_details(self):\n",
    "        return self.phone, self.email, self.id\n",
    "        "
   ]
  },
  {
   "cell_type": "code",
   "execution_count": 15,
   "id": "a71b7a73",
   "metadata": {},
   "outputs": [
    {
     "ename": "TypeError",
     "evalue": "pwskills.__init__() missing 3 required positional arguments: 'phone', 'email', and 'id'",
     "output_type": "error",
     "traceback": [
      "\u001b[1;31m---------------------------------------------------------------------------\u001b[0m",
      "\u001b[1;31mTypeError\u001b[0m                                 Traceback (most recent call last)",
      "Cell \u001b[1;32mIn[15], line 1\u001b[0m\n\u001b[1;32m----> 1\u001b[0m rohan \u001b[38;5;241m=\u001b[39m \u001b[43mpwskills\u001b[49m\u001b[43m(\u001b[49m\u001b[43m)\u001b[49m\n",
      "\u001b[1;31mTypeError\u001b[0m: pwskills.__init__() missing 3 required positional arguments: 'phone', 'email', and 'id'"
     ]
    }
   ],
   "source": [
    "rohan = pwskills()"
   ]
  },
  {
   "cell_type": "code",
   "execution_count": 16,
   "id": "b8d0e445",
   "metadata": {},
   "outputs": [],
   "source": [
    "rohan = pwskills(904345, 'maha@gmail.com', 101)"
   ]
  },
  {
   "cell_type": "code",
   "execution_count": 17,
   "id": "b734dbec",
   "metadata": {},
   "outputs": [
    {
     "data": {
      "text/plain": [
       "'maha@gmail.com'"
      ]
     },
     "execution_count": 17,
     "metadata": {},
     "output_type": "execute_result"
    }
   ],
   "source": [
    "rohan.email"
   ]
  },
  {
   "cell_type": "code",
   "execution_count": 18,
   "id": "e54b3437",
   "metadata": {},
   "outputs": [
    {
     "data": {
      "text/plain": [
       "'maha@gmail.com'"
      ]
     },
     "execution_count": 18,
     "metadata": {},
     "output_type": "execute_result"
    }
   ],
   "source": [
    "rohan.email"
   ]
  },
  {
   "cell_type": "code",
   "execution_count": 21,
   "id": "40966fe2",
   "metadata": {},
   "outputs": [
    {
     "data": {
      "text/plain": [
       "(904345, 'maha@gmail.com', 101)"
      ]
     },
     "execution_count": 21,
     "metadata": {},
     "output_type": "execute_result"
    }
   ],
   "source": [
    "rohan.student_details()"
   ]
  },
  {
   "cell_type": "code",
   "execution_count": 30,
   "id": "83ad336e",
   "metadata": {},
   "outputs": [],
   "source": [
    "class pwskills2:\n",
    "    \n",
    "    def __init__(raja, phone, email, id):\n",
    "        raja.phone = phone\n",
    "        raja.email = email\n",
    "        raja.id = id\n",
    "        \n",
    "    def student_details(raja):\n",
    "        return raja.phone, raja.email, raja.id"
   ]
  },
  {
   "cell_type": "code",
   "execution_count": 31,
   "id": "a30c0c7f",
   "metadata": {},
   "outputs": [],
   "source": [
    "mohan = pwskills2(90976, \"maha@gmao.co\", 567)"
   ]
  },
  {
   "cell_type": "code",
   "execution_count": 32,
   "id": "258e2582",
   "metadata": {},
   "outputs": [
    {
     "data": {
      "text/plain": [
       "(90976, 'maha@gmao.co', 567)"
      ]
     },
     "execution_count": 32,
     "metadata": {},
     "output_type": "execute_result"
    }
   ],
   "source": [
    "mohan.student_details()"
   ]
  },
  {
   "cell_type": "code",
   "execution_count": 45,
   "id": "9ebbf33e",
   "metadata": {},
   "outputs": [],
   "source": [
    "class pwskills3:\n",
    "    \n",
    "    def __init__(self, phone, email, id):\n",
    "        self.phone1 = phone\n",
    "        self.email = email\n",
    "        self.id = id\n",
    "        \n",
    "    def student_details(self):\n",
    "        return self.phone1, self.email, self.id"
   ]
  },
  {
   "cell_type": "code",
   "execution_count": 46,
   "id": "65466d61",
   "metadata": {},
   "outputs": [],
   "source": [
    "yogam = pwskills3(90976, \"maha@gmao.co\", 567)"
   ]
  },
  {
   "cell_type": "code",
   "execution_count": 47,
   "id": "f6c025ce",
   "metadata": {},
   "outputs": [
    {
     "data": {
      "text/plain": [
       "90976"
      ]
     },
     "execution_count": 47,
     "metadata": {},
     "output_type": "execute_result"
    }
   ],
   "source": [
    "yogam.phone1"
   ]
  },
  {
   "cell_type": "code",
   "execution_count": 48,
   "id": "3be18df5",
   "metadata": {},
   "outputs": [
    {
     "data": {
      "text/plain": [
       "567"
      ]
     },
     "execution_count": 48,
     "metadata": {},
     "output_type": "execute_result"
    }
   ],
   "source": [
    "yogam.id"
   ]
  },
  {
   "cell_type": "code",
   "execution_count": 49,
   "id": "2474da72",
   "metadata": {},
   "outputs": [
    {
     "data": {
      "text/plain": [
       "(90976, 'maha@gmao.co', 567)"
      ]
     },
     "execution_count": 49,
     "metadata": {},
     "output_type": "execute_result"
    }
   ],
   "source": [
    "yogam.student_details()"
   ]
  },
  {
   "cell_type": "code",
   "execution_count": null,
   "id": "16e2f279",
   "metadata": {},
   "outputs": [],
   "source": [
    "class test:\n",
    "    def __init__(self):\n",
    "        pass\n",
    "    \n",
    "    def fun(self):\n",
    "        return self."
   ]
  }
 ],
 "metadata": {
  "kernelspec": {
   "display_name": "Python 3 (ipykernel)",
   "language": "python",
   "name": "python3"
  },
  "language_info": {
   "codemirror_mode": {
    "name": "ipython",
    "version": 3
   },
   "file_extension": ".py",
   "mimetype": "text/x-python",
   "name": "python",
   "nbconvert_exporter": "python",
   "pygments_lexer": "ipython3",
   "version": "3.10.13"
  }
 },
 "nbformat": 4,
 "nbformat_minor": 5
}
