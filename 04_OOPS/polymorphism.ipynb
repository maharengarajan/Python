{
 "cells": [
  {
   "cell_type": "code",
   "execution_count": 1,
   "id": "8d2b3c72",
   "metadata": {},
   "outputs": [],
   "source": [
    "def test(a,b):\n",
    "    return a+b"
   ]
  },
  {
   "cell_type": "code",
   "execution_count": 2,
   "id": "8fe35459",
   "metadata": {},
   "outputs": [
    {
     "data": {
      "text/plain": [
       "7"
      ]
     },
     "execution_count": 2,
     "metadata": {},
     "output_type": "execute_result"
    }
   ],
   "source": [
    "test(3,4)"
   ]
  },
  {
   "cell_type": "code",
   "execution_count": 3,
   "id": "43c2fae5",
   "metadata": {},
   "outputs": [
    {
     "data": {
      "text/plain": [
       "'rajayoga'"
      ]
     },
     "execution_count": 3,
     "metadata": {},
     "output_type": "execute_result"
    }
   ],
   "source": [
    "test(\"raja\", 'yoga')"
   ]
  },
  {
   "cell_type": "code",
   "execution_count": 18,
   "id": "3257756c",
   "metadata": {},
   "outputs": [],
   "source": [
    "class data_science:\n",
    "    def syllabus(self):\n",
    "        print(\"this is data science syllabus\")"
   ]
  },
  {
   "cell_type": "code",
   "execution_count": 19,
   "id": "a4f22c3e",
   "metadata": {},
   "outputs": [],
   "source": [
    "class web_dev:\n",
    "    def syllabus(self):\n",
    "        print(\"this is web dev syllabus\")"
   ]
  },
  {
   "cell_type": "code",
   "execution_count": 20,
   "id": "e95d818d",
   "metadata": {},
   "outputs": [],
   "source": [
    "obj_ds = data_science()"
   ]
  },
  {
   "cell_type": "code",
   "execution_count": 21,
   "id": "8c5e61ee",
   "metadata": {},
   "outputs": [],
   "source": [
    "obj_web = web_dev()"
   ]
  },
  {
   "cell_type": "code",
   "execution_count": 22,
   "id": "0715df3e",
   "metadata": {},
   "outputs": [],
   "source": [
    "def class_parcer(class_obj):\n",
    "    for i in class_obj:\n",
    "        i.syllabus()"
   ]
  },
  {
   "cell_type": "code",
   "execution_count": 23,
   "id": "855c7ba8",
   "metadata": {},
   "outputs": [],
   "source": [
    "class_obj = [obj_ds,obj_web]"
   ]
  },
  {
   "cell_type": "code",
   "execution_count": 24,
   "id": "7c8e53f1",
   "metadata": {},
   "outputs": [
    {
     "name": "stdout",
     "output_type": "stream",
     "text": [
      "this is data science syllabus\n",
      "this is web dev syllabus\n"
     ]
    }
   ],
   "source": [
    "class_parcer(class_obj)"
   ]
  },
  {
   "cell_type": "code",
   "execution_count": 25,
   "id": "db6eaf68",
   "metadata": {},
   "outputs": [
    {
     "name": "stdout",
     "output_type": "stream",
     "text": [
      "Woof!\n",
      "Meow!\n",
      "Tweet!\n"
     ]
    }
   ],
   "source": [
    "class Animal:\n",
    "    def speak(self):\n",
    "        pass\n",
    "\n",
    "class Dog(Animal):\n",
    "    def speak(self):\n",
    "        return \"Woof!\"\n",
    "\n",
    "class Cat(Animal):\n",
    "    def speak(self):\n",
    "        return \"Meow!\"\n",
    "\n",
    "class Bird(Animal):\n",
    "    def speak(self):\n",
    "        return \"Tweet!\"\n",
    "\n",
    "# Function that demonstrates polymorphism\n",
    "def animal_sound(animal):\n",
    "    return animal.speak()\n",
    "\n",
    "# Create instances of different animals\n",
    "dog = Dog()\n",
    "cat = Cat()\n",
    "bird = Bird()\n",
    "\n",
    "# Call the function with different animal objects\n",
    "print(animal_sound(dog))  # Output: Woof!\n",
    "print(animal_sound(cat))  # Output: Meow!\n",
    "print(animal_sound(bird))  # Output: Tweet!\n"
   ]
  },
  {
   "cell_type": "code",
   "execution_count": null,
   "id": "31c90a9f",
   "metadata": {},
   "outputs": [],
   "source": []
  }
 ],
 "metadata": {
  "kernelspec": {
   "display_name": "Python 3 (ipykernel)",
   "language": "python",
   "name": "python3"
  },
  "language_info": {
   "codemirror_mode": {
    "name": "ipython",
    "version": 3
   },
   "file_extension": ".py",
   "mimetype": "text/x-python",
   "name": "python",
   "nbconvert_exporter": "python",
   "pygments_lexer": "ipython3",
   "version": "3.10.13"
  }
 },
 "nbformat": 4,
 "nbformat_minor": 5
}
