{
 "cells": [
  {
   "cell_type": "code",
   "execution_count": 3,
   "id": "255c409d",
   "metadata": {},
   "outputs": [],
   "source": [
    "# creating skeleton or just blue print\n",
    "import abc\n",
    "\n",
    "class pwskills:\n",
    "    \n",
    "    @abc.abstractmethod\n",
    "    def student_name(self):\n",
    "        pass\n",
    "    \n",
    "    @abc.abstractmethod\n",
    "    def student_assignment(self):\n",
    "        pass\n",
    "    \n",
    "    @abc.abstractmethod\n",
    "    def student_mark(self):\n",
    "        pass"
   ]
  },
  {
   "cell_type": "code",
   "execution_count": 4,
   "id": "90e0f30b",
   "metadata": {},
   "outputs": [],
   "source": [
    "class data_science:\n",
    "    def student_name(self):\n",
    "        return 'thois will return student name of ds course'\n",
    "    \n",
    "    def student_assignment(self):\n",
    "        return 'This will return student assignment'"
   ]
  },
  {
   "cell_type": "code",
   "execution_count": 5,
   "id": "e77197d5",
   "metadata": {},
   "outputs": [],
   "source": [
    "class web_dev:\n",
    "    def student_name(self):\n",
    "        return 'thois will return student name of web dev course'\n",
    "    def student_mark(self):\n",
    "        return 'This will return student mark'\n",
    "        "
   ]
  },
  {
   "cell_type": "code",
   "execution_count": 6,
   "id": "cfca318d",
   "metadata": {},
   "outputs": [],
   "source": [
    "ds = data_science()"
   ]
  },
  {
   "cell_type": "code",
   "execution_count": 7,
   "id": "d56b9c1c",
   "metadata": {},
   "outputs": [
    {
     "data": {
      "text/plain": [
       "'This will return student assignment'"
      ]
     },
     "execution_count": 7,
     "metadata": {},
     "output_type": "execute_result"
    }
   ],
   "source": [
    "ds.student_assignment()"
   ]
  },
  {
   "cell_type": "code",
   "execution_count": 8,
   "id": "0d7ca012",
   "metadata": {},
   "outputs": [
    {
     "data": {
      "text/plain": [
       "'thois will return student name of ds course'"
      ]
     },
     "execution_count": 8,
     "metadata": {},
     "output_type": "execute_result"
    }
   ],
   "source": [
    "ds.student_name()"
   ]
  },
  {
   "cell_type": "code",
   "execution_count": 9,
   "id": "c25be25d",
   "metadata": {},
   "outputs": [],
   "source": [
    "web = web_dev()"
   ]
  },
  {
   "cell_type": "code",
   "execution_count": 10,
   "id": "e56d195b",
   "metadata": {},
   "outputs": [
    {
     "data": {
      "text/plain": [
       "'This will return student mark'"
      ]
     },
     "execution_count": 10,
     "metadata": {},
     "output_type": "execute_result"
    }
   ],
   "source": [
    "web.student_mark()"
   ]
  },
  {
   "cell_type": "code",
   "execution_count": 11,
   "id": "eb4b40ea",
   "metadata": {},
   "outputs": [
    {
     "data": {
      "text/plain": [
       "'thois will return student name of web dev course'"
      ]
     },
     "execution_count": 11,
     "metadata": {},
     "output_type": "execute_result"
    }
   ],
   "source": [
    "web.student_name()"
   ]
  },
  {
   "cell_type": "code",
   "execution_count": null,
   "id": "1da9c02c",
   "metadata": {},
   "outputs": [],
   "source": []
  }
 ],
 "metadata": {
  "kernelspec": {
   "display_name": "Python 3 (ipykernel)",
   "language": "python",
   "name": "python3"
  },
  "language_info": {
   "codemirror_mode": {
    "name": "ipython",
    "version": 3
   },
   "file_extension": ".py",
   "mimetype": "text/x-python",
   "name": "python",
   "nbconvert_exporter": "python",
   "pygments_lexer": "ipython3",
   "version": "3.10.13"
  }
 },
 "nbformat": 4,
 "nbformat_minor": 5
}
