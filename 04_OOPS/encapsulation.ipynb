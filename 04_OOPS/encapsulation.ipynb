{
 "cells": [
  {
   "cell_type": "code",
   "execution_count": 1,
   "id": "199a19c2",
   "metadata": {},
   "outputs": [],
   "source": [
    "class test:\n",
    "    def __init__(self,a,b):\n",
    "        self.a = a\n",
    "        self.b =b"
   ]
  },
  {
   "cell_type": "code",
   "execution_count": 3,
   "id": "08cd3ed4",
   "metadata": {},
   "outputs": [],
   "source": [
    "t = test(34,45)"
   ]
  },
  {
   "cell_type": "code",
   "execution_count": 4,
   "id": "60f3780e",
   "metadata": {},
   "outputs": [
    {
     "data": {
      "text/plain": [
       "34"
      ]
     },
     "execution_count": 4,
     "metadata": {},
     "output_type": "execute_result"
    }
   ],
   "source": [
    "t.a"
   ]
  },
  {
   "cell_type": "code",
   "execution_count": 5,
   "id": "90afe65c",
   "metadata": {},
   "outputs": [
    {
     "data": {
      "text/plain": [
       "45"
      ]
     },
     "execution_count": 5,
     "metadata": {},
     "output_type": "execute_result"
    }
   ],
   "source": [
    "t.b"
   ]
  },
  {
   "cell_type": "code",
   "execution_count": 6,
   "id": "83c0bd05",
   "metadata": {},
   "outputs": [],
   "source": [
    "t.a = 0"
   ]
  },
  {
   "cell_type": "code",
   "execution_count": 7,
   "id": "3179c713",
   "metadata": {},
   "outputs": [
    {
     "data": {
      "text/plain": [
       "0"
      ]
     },
     "execution_count": 7,
     "metadata": {},
     "output_type": "execute_result"
    }
   ],
   "source": [
    "t.a"
   ]
  },
  {
   "cell_type": "code",
   "execution_count": 8,
   "id": "240752cd",
   "metadata": {},
   "outputs": [],
   "source": [
    "#here we can modify our data, but in production grade no one can able to change the data, here encapsulation comes"
   ]
  },
  {
   "cell_type": "code",
   "execution_count": null,
   "id": "047dfc45",
   "metadata": {},
   "outputs": [],
   "source": [
    "class car:\n",
    "    def __init__(self, year, make, model, speed)"
   ]
  },
  {
   "cell_type": "code",
   "execution_count": null,
   "id": "cbe7e233",
   "metadata": {},
   "outputs": [],
   "source": []
  },
  {
   "cell_type": "code",
   "execution_count": 9,
   "id": "72828f01",
   "metadata": {},
   "outputs": [
    {
     "name": "stdout",
     "output_type": "stream",
     "text": [
      "Name: John Doe\n",
      "Age: 20\n",
      "Updated Name: Jane Doe\n",
      "Updated Age: 21\n"
     ]
    }
   ],
   "source": [
    "class Student:\n",
    "    def __init__(self, name, age):\n",
    "        self.__name = name  # Private attribute\n",
    "        self.__age = age    # Private attribute\n",
    "\n",
    "    # Getter methods\n",
    "    def get_name(self):\n",
    "        return self.__name\n",
    "\n",
    "    def get_age(self):\n",
    "        return self.__age\n",
    "\n",
    "    # Setter methods\n",
    "    def set_name(self, name):\n",
    "        self.__name = name\n",
    "\n",
    "    def set_age(self, age):\n",
    "        if age > 0:\n",
    "            self.__age = age\n",
    "        else:\n",
    "            print(\"Age must be greater than 0.\")\n",
    "\n",
    "# Creating an instance of the Student class\n",
    "student1 = Student(\"John Doe\", 20)\n",
    "\n",
    "# Accessing attributes using getter methods\n",
    "print(\"Name:\", student1.get_name())  # Output: John Doe\n",
    "print(\"Age:\", student1.get_age())    # Output: 20\n",
    "\n",
    "# Trying to directly access private attributes (will result in an error)\n",
    "# print(student1.__name)  # This line will raise an AttributeError\n",
    "\n",
    "# Modifying attributes using setter methods\n",
    "student1.set_name(\"Jane Doe\")\n",
    "student1.set_age(21)\n",
    "\n",
    "# Accessing attributes after modification\n",
    "print(\"Updated Name:\", student1.get_name())  # Output: Jane Doe\n",
    "print(\"Updated Age:\", student1.get_age())    # Output: 21\n"
   ]
  },
  {
   "cell_type": "code",
   "execution_count": null,
   "id": "07eff495",
   "metadata": {},
   "outputs": [],
   "source": []
  }
 ],
 "metadata": {
  "kernelspec": {
   "display_name": "Python 3 (ipykernel)",
   "language": "python",
   "name": "python3"
  },
  "language_info": {
   "codemirror_mode": {
    "name": "ipython",
    "version": 3
   },
   "file_extension": ".py",
   "mimetype": "text/x-python",
   "name": "python",
   "nbconvert_exporter": "python",
   "pygments_lexer": "ipython3",
   "version": "3.10.13"
  }
 },
 "nbformat": 4,
 "nbformat_minor": 5
}
